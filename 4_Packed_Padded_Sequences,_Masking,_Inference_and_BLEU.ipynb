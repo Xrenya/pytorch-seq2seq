{
  "nbformat": 4,
  "nbformat_minor": 0,
  "metadata": {
    "colab": {
      "provenance": [],
      "collapsed_sections": []
    },
    "kernelspec": {
      "name": "python3",
      "display_name": "Python 3"
    },
    "language_info": {
      "name": "python"
    },
    "accelerator": "GPU",
    "gpuClass": "standard"
  },
  "cells": [
    {
      "cell_type": "markdown",
      "source": [
        "# 4 - Packed Padded Sequences, Masking, Inference and BLEU\n",
        "\n",
        "## Introduction\n",
        "\n",
        "In this notebook we will be adding a few improvements - packed padded sequences and masking - to the model from the previous notebook. Packed padded sequences are used to tell our RNN to skip over padding tokens in our encoder. Masking explicitly forces the model to ignore certain values, such as attention over padded elements. Both of these techniques are commonly used in NLP. \n",
        "\n",
        "We will also look at how to use our model for inference, by giving it a sentence, seeing what it translates it as and seeing where exactly it pays attention to when translating each word.\n",
        "\n",
        "Finally, we'll use the BLEU metric to measure the quality of our translations.\n",
        "\n",
        "\n",
        "## Install required libraries\n",
        "\n",
        "We'll be coding up the models in PyTorch and using torchtext to help us do all of the pre-processing required. We'll also be using spaCy to assist in the tokenization of the data. Install spaCy tokenizers for English and German. "
      ],
      "metadata": {
        "id": "8WOguQh1PYB-"
      }
    },
    {
      "cell_type": "code",
      "execution_count": 1,
      "metadata": {
        "colab": {
          "base_uri": "https://localhost:8080/"
        },
        "id": "JZCGIz2jKycW",
        "outputId": "243d8f4c-40eb-4da0-ee54-455ba0886268"
      },
      "outputs": [
        {
          "output_type": "stream",
          "name": "stdout",
          "text": [
            "Looking in indexes: https://pypi.org/simple, https://us-python.pkg.dev/colab-wheels/public/simple/\n",
            "Collecting torchdata\n",
            "  Downloading torchdata-0.4.1-cp37-cp37m-manylinux_2_17_x86_64.manylinux2014_x86_64.whl (4.4 MB)\n",
            "\u001b[K     |████████████████████████████████| 4.4 MB 5.2 MB/s \n",
            "\u001b[?25hRequirement already satisfied: torch==1.12.1 in /usr/local/lib/python3.7/dist-packages (from torchdata) (1.12.1+cu113)\n",
            "Requirement already satisfied: requests in /usr/local/lib/python3.7/dist-packages (from torchdata) (2.23.0)\n",
            "Collecting portalocker>=2.0.0\n",
            "  Downloading portalocker-2.5.1-py2.py3-none-any.whl (15 kB)\n",
            "Collecting urllib3>=1.25\n",
            "  Downloading urllib3-1.26.12-py2.py3-none-any.whl (140 kB)\n",
            "\u001b[K     |████████████████████████████████| 140 kB 42.7 MB/s \n",
            "\u001b[?25hRequirement already satisfied: typing-extensions in /usr/local/lib/python3.7/dist-packages (from torch==1.12.1->torchdata) (4.1.1)\n",
            "Requirement already satisfied: chardet<4,>=3.0.2 in /usr/local/lib/python3.7/dist-packages (from requests->torchdata) (3.0.4)\n",
            "Requirement already satisfied: idna<3,>=2.5 in /usr/local/lib/python3.7/dist-packages (from requests->torchdata) (2.10)\n",
            "  Downloading urllib3-1.25.11-py2.py3-none-any.whl (127 kB)\n",
            "\u001b[K     |████████████████████████████████| 127 kB 67.8 MB/s \n",
            "\u001b[?25hRequirement already satisfied: certifi>=2017.4.17 in /usr/local/lib/python3.7/dist-packages (from requests->torchdata) (2022.6.15)\n",
            "Installing collected packages: urllib3, portalocker, torchdata\n",
            "  Attempting uninstall: urllib3\n",
            "    Found existing installation: urllib3 1.24.3\n",
            "    Uninstalling urllib3-1.24.3:\n",
            "      Successfully uninstalled urllib3-1.24.3\n",
            "Successfully installed portalocker-2.5.1 torchdata-0.4.1 urllib3-1.25.11\n",
            "Looking in indexes: https://pypi.org/simple, https://us-python.pkg.dev/colab-wheels/public/simple/\n",
            "Requirement already satisfied: spacy in /usr/local/lib/python3.7/dist-packages (3.4.1)\n",
            "Requirement already satisfied: murmurhash<1.1.0,>=0.28.0 in /usr/local/lib/python3.7/dist-packages (from spacy) (1.0.8)\n",
            "Requirement already satisfied: spacy-legacy<3.1.0,>=3.0.9 in /usr/local/lib/python3.7/dist-packages (from spacy) (3.0.10)\n",
            "Requirement already satisfied: wasabi<1.1.0,>=0.9.1 in /usr/local/lib/python3.7/dist-packages (from spacy) (0.10.1)\n",
            "Requirement already satisfied: preshed<3.1.0,>=3.0.2 in /usr/local/lib/python3.7/dist-packages (from spacy) (3.0.7)\n",
            "Requirement already satisfied: typing-extensions<4.2.0,>=3.7.4 in /usr/local/lib/python3.7/dist-packages (from spacy) (4.1.1)\n",
            "Requirement already satisfied: setuptools in /usr/local/lib/python3.7/dist-packages (from spacy) (57.4.0)\n",
            "Requirement already satisfied: catalogue<2.1.0,>=2.0.6 in /usr/local/lib/python3.7/dist-packages (from spacy) (2.0.8)\n",
            "Requirement already satisfied: tqdm<5.0.0,>=4.38.0 in /usr/local/lib/python3.7/dist-packages (from spacy) (4.64.1)\n",
            "Requirement already satisfied: numpy>=1.15.0 in /usr/local/lib/python3.7/dist-packages (from spacy) (1.21.6)\n",
            "Requirement already satisfied: typer<0.5.0,>=0.3.0 in /usr/local/lib/python3.7/dist-packages (from spacy) (0.4.2)\n",
            "Requirement already satisfied: requests<3.0.0,>=2.13.0 in /usr/local/lib/python3.7/dist-packages (from spacy) (2.23.0)\n",
            "Requirement already satisfied: jinja2 in /usr/local/lib/python3.7/dist-packages (from spacy) (2.11.3)\n",
            "Requirement already satisfied: pathy>=0.3.5 in /usr/local/lib/python3.7/dist-packages (from spacy) (0.6.2)\n",
            "Requirement already satisfied: cymem<2.1.0,>=2.0.2 in /usr/local/lib/python3.7/dist-packages (from spacy) (2.0.6)\n",
            "Requirement already satisfied: langcodes<4.0.0,>=3.2.0 in /usr/local/lib/python3.7/dist-packages (from spacy) (3.3.0)\n",
            "Requirement already satisfied: srsly<3.0.0,>=2.4.3 in /usr/local/lib/python3.7/dist-packages (from spacy) (2.4.4)\n",
            "Requirement already satisfied: thinc<8.2.0,>=8.1.0 in /usr/local/lib/python3.7/dist-packages (from spacy) (8.1.0)\n",
            "Requirement already satisfied: pydantic!=1.8,!=1.8.1,<1.10.0,>=1.7.4 in /usr/local/lib/python3.7/dist-packages (from spacy) (1.9.2)\n",
            "Requirement already satisfied: spacy-loggers<2.0.0,>=1.0.0 in /usr/local/lib/python3.7/dist-packages (from spacy) (1.0.3)\n",
            "Requirement already satisfied: packaging>=20.0 in /usr/local/lib/python3.7/dist-packages (from spacy) (21.3)\n",
            "Requirement already satisfied: zipp>=0.5 in /usr/local/lib/python3.7/dist-packages (from catalogue<2.1.0,>=2.0.6->spacy) (3.8.1)\n",
            "Requirement already satisfied: pyparsing!=3.0.5,>=2.0.2 in /usr/local/lib/python3.7/dist-packages (from packaging>=20.0->spacy) (3.0.9)\n",
            "Requirement already satisfied: smart-open<6.0.0,>=5.2.1 in /usr/local/lib/python3.7/dist-packages (from pathy>=0.3.5->spacy) (5.2.1)\n",
            "Requirement already satisfied: chardet<4,>=3.0.2 in /usr/local/lib/python3.7/dist-packages (from requests<3.0.0,>=2.13.0->spacy) (3.0.4)\n",
            "Requirement already satisfied: certifi>=2017.4.17 in /usr/local/lib/python3.7/dist-packages (from requests<3.0.0,>=2.13.0->spacy) (2022.6.15)\n",
            "Requirement already satisfied: urllib3!=1.25.0,!=1.25.1,<1.26,>=1.21.1 in /usr/local/lib/python3.7/dist-packages (from requests<3.0.0,>=2.13.0->spacy) (1.25.11)\n",
            "Requirement already satisfied: idna<3,>=2.5 in /usr/local/lib/python3.7/dist-packages (from requests<3.0.0,>=2.13.0->spacy) (2.10)\n",
            "Requirement already satisfied: blis<0.8.0,>=0.7.8 in /usr/local/lib/python3.7/dist-packages (from thinc<8.2.0,>=8.1.0->spacy) (0.7.8)\n",
            "Requirement already satisfied: click<9.0.0,>=7.1.1 in /usr/local/lib/python3.7/dist-packages (from typer<0.5.0,>=0.3.0->spacy) (7.1.2)\n",
            "Requirement already satisfied: MarkupSafe>=0.23 in /usr/local/lib/python3.7/dist-packages (from jinja2->spacy) (2.0.1)\n",
            "Looking in indexes: https://pypi.org/simple, https://us-python.pkg.dev/colab-wheels/public/simple/\n",
            "Collecting en-core-web-sm==3.4.0\n",
            "  Downloading https://github.com/explosion/spacy-models/releases/download/en_core_web_sm-3.4.0/en_core_web_sm-3.4.0-py3-none-any.whl (12.8 MB)\n",
            "\u001b[K     |████████████████████████████████| 12.8 MB 5.1 MB/s \n",
            "\u001b[?25hRequirement already satisfied: spacy<3.5.0,>=3.4.0 in /usr/local/lib/python3.7/dist-packages (from en-core-web-sm==3.4.0) (3.4.1)\n",
            "Requirement already satisfied: spacy-legacy<3.1.0,>=3.0.9 in /usr/local/lib/python3.7/dist-packages (from spacy<3.5.0,>=3.4.0->en-core-web-sm==3.4.0) (3.0.10)\n",
            "Requirement already satisfied: tqdm<5.0.0,>=4.38.0 in /usr/local/lib/python3.7/dist-packages (from spacy<3.5.0,>=3.4.0->en-core-web-sm==3.4.0) (4.64.1)\n",
            "Requirement already satisfied: typing-extensions<4.2.0,>=3.7.4 in /usr/local/lib/python3.7/dist-packages (from spacy<3.5.0,>=3.4.0->en-core-web-sm==3.4.0) (4.1.1)\n",
            "Requirement already satisfied: cymem<2.1.0,>=2.0.2 in /usr/local/lib/python3.7/dist-packages (from spacy<3.5.0,>=3.4.0->en-core-web-sm==3.4.0) (2.0.6)\n",
            "Requirement already satisfied: setuptools in /usr/local/lib/python3.7/dist-packages (from spacy<3.5.0,>=3.4.0->en-core-web-sm==3.4.0) (57.4.0)\n",
            "Requirement already satisfied: murmurhash<1.1.0,>=0.28.0 in /usr/local/lib/python3.7/dist-packages (from spacy<3.5.0,>=3.4.0->en-core-web-sm==3.4.0) (1.0.8)\n",
            "Requirement already satisfied: wasabi<1.1.0,>=0.9.1 in /usr/local/lib/python3.7/dist-packages (from spacy<3.5.0,>=3.4.0->en-core-web-sm==3.4.0) (0.10.1)\n",
            "Requirement already satisfied: pathy>=0.3.5 in /usr/local/lib/python3.7/dist-packages (from spacy<3.5.0,>=3.4.0->en-core-web-sm==3.4.0) (0.6.2)\n",
            "Requirement already satisfied: typer<0.5.0,>=0.3.0 in /usr/local/lib/python3.7/dist-packages (from spacy<3.5.0,>=3.4.0->en-core-web-sm==3.4.0) (0.4.2)\n",
            "Requirement already satisfied: packaging>=20.0 in /usr/local/lib/python3.7/dist-packages (from spacy<3.5.0,>=3.4.0->en-core-web-sm==3.4.0) (21.3)\n",
            "Requirement already satisfied: catalogue<2.1.0,>=2.0.6 in /usr/local/lib/python3.7/dist-packages (from spacy<3.5.0,>=3.4.0->en-core-web-sm==3.4.0) (2.0.8)\n",
            "Requirement already satisfied: numpy>=1.15.0 in /usr/local/lib/python3.7/dist-packages (from spacy<3.5.0,>=3.4.0->en-core-web-sm==3.4.0) (1.21.6)\n",
            "Requirement already satisfied: langcodes<4.0.0,>=3.2.0 in /usr/local/lib/python3.7/dist-packages (from spacy<3.5.0,>=3.4.0->en-core-web-sm==3.4.0) (3.3.0)\n",
            "Requirement already satisfied: jinja2 in /usr/local/lib/python3.7/dist-packages (from spacy<3.5.0,>=3.4.0->en-core-web-sm==3.4.0) (2.11.3)\n",
            "Requirement already satisfied: preshed<3.1.0,>=3.0.2 in /usr/local/lib/python3.7/dist-packages (from spacy<3.5.0,>=3.4.0->en-core-web-sm==3.4.0) (3.0.7)\n",
            "Requirement already satisfied: requests<3.0.0,>=2.13.0 in /usr/local/lib/python3.7/dist-packages (from spacy<3.5.0,>=3.4.0->en-core-web-sm==3.4.0) (2.23.0)\n",
            "Requirement already satisfied: spacy-loggers<2.0.0,>=1.0.0 in /usr/local/lib/python3.7/dist-packages (from spacy<3.5.0,>=3.4.0->en-core-web-sm==3.4.0) (1.0.3)\n",
            "Requirement already satisfied: thinc<8.2.0,>=8.1.0 in /usr/local/lib/python3.7/dist-packages (from spacy<3.5.0,>=3.4.0->en-core-web-sm==3.4.0) (8.1.0)\n",
            "Requirement already satisfied: pydantic!=1.8,!=1.8.1,<1.10.0,>=1.7.4 in /usr/local/lib/python3.7/dist-packages (from spacy<3.5.0,>=3.4.0->en-core-web-sm==3.4.0) (1.9.2)\n",
            "Requirement already satisfied: srsly<3.0.0,>=2.4.3 in /usr/local/lib/python3.7/dist-packages (from spacy<3.5.0,>=3.4.0->en-core-web-sm==3.4.0) (2.4.4)\n",
            "Requirement already satisfied: zipp>=0.5 in /usr/local/lib/python3.7/dist-packages (from catalogue<2.1.0,>=2.0.6->spacy<3.5.0,>=3.4.0->en-core-web-sm==3.4.0) (3.8.1)\n",
            "Requirement already satisfied: pyparsing!=3.0.5,>=2.0.2 in /usr/local/lib/python3.7/dist-packages (from packaging>=20.0->spacy<3.5.0,>=3.4.0->en-core-web-sm==3.4.0) (3.0.9)\n",
            "Requirement already satisfied: smart-open<6.0.0,>=5.2.1 in /usr/local/lib/python3.7/dist-packages (from pathy>=0.3.5->spacy<3.5.0,>=3.4.0->en-core-web-sm==3.4.0) (5.2.1)\n",
            "Requirement already satisfied: urllib3!=1.25.0,!=1.25.1,<1.26,>=1.21.1 in /usr/local/lib/python3.7/dist-packages (from requests<3.0.0,>=2.13.0->spacy<3.5.0,>=3.4.0->en-core-web-sm==3.4.0) (1.25.11)\n",
            "Requirement already satisfied: certifi>=2017.4.17 in /usr/local/lib/python3.7/dist-packages (from requests<3.0.0,>=2.13.0->spacy<3.5.0,>=3.4.0->en-core-web-sm==3.4.0) (2022.6.15)\n",
            "Requirement already satisfied: chardet<4,>=3.0.2 in /usr/local/lib/python3.7/dist-packages (from requests<3.0.0,>=2.13.0->spacy<3.5.0,>=3.4.0->en-core-web-sm==3.4.0) (3.0.4)\n",
            "Requirement already satisfied: idna<3,>=2.5 in /usr/local/lib/python3.7/dist-packages (from requests<3.0.0,>=2.13.0->spacy<3.5.0,>=3.4.0->en-core-web-sm==3.4.0) (2.10)\n",
            "Requirement already satisfied: blis<0.8.0,>=0.7.8 in /usr/local/lib/python3.7/dist-packages (from thinc<8.2.0,>=8.1.0->spacy<3.5.0,>=3.4.0->en-core-web-sm==3.4.0) (0.7.8)\n",
            "Requirement already satisfied: click<9.0.0,>=7.1.1 in /usr/local/lib/python3.7/dist-packages (from typer<0.5.0,>=0.3.0->spacy<3.5.0,>=3.4.0->en-core-web-sm==3.4.0) (7.1.2)\n",
            "Requirement already satisfied: MarkupSafe>=0.23 in /usr/local/lib/python3.7/dist-packages (from jinja2->spacy<3.5.0,>=3.4.0->en-core-web-sm==3.4.0) (2.0.1)\n",
            "\u001b[38;5;2m✔ Download and installation successful\u001b[0m\n",
            "You can now load the package via spacy.load('en_core_web_sm')\n",
            "Looking in indexes: https://pypi.org/simple, https://us-python.pkg.dev/colab-wheels/public/simple/\n",
            "Collecting de-core-news-sm==3.4.0\n",
            "  Downloading https://github.com/explosion/spacy-models/releases/download/de_core_news_sm-3.4.0/de_core_news_sm-3.4.0-py3-none-any.whl (14.6 MB)\n",
            "\u001b[K     |████████████████████████████████| 14.6 MB 4.9 MB/s \n",
            "\u001b[?25hRequirement already satisfied: spacy<3.5.0,>=3.4.0 in /usr/local/lib/python3.7/dist-packages (from de-core-news-sm==3.4.0) (3.4.1)\n",
            "Requirement already satisfied: wasabi<1.1.0,>=0.9.1 in /usr/local/lib/python3.7/dist-packages (from spacy<3.5.0,>=3.4.0->de-core-news-sm==3.4.0) (0.10.1)\n",
            "Requirement already satisfied: spacy-legacy<3.1.0,>=3.0.9 in /usr/local/lib/python3.7/dist-packages (from spacy<3.5.0,>=3.4.0->de-core-news-sm==3.4.0) (3.0.10)\n",
            "Requirement already satisfied: pathy>=0.3.5 in /usr/local/lib/python3.7/dist-packages (from spacy<3.5.0,>=3.4.0->de-core-news-sm==3.4.0) (0.6.2)\n",
            "Requirement already satisfied: typing-extensions<4.2.0,>=3.7.4 in /usr/local/lib/python3.7/dist-packages (from spacy<3.5.0,>=3.4.0->de-core-news-sm==3.4.0) (4.1.1)\n",
            "Requirement already satisfied: langcodes<4.0.0,>=3.2.0 in /usr/local/lib/python3.7/dist-packages (from spacy<3.5.0,>=3.4.0->de-core-news-sm==3.4.0) (3.3.0)\n",
            "Requirement already satisfied: typer<0.5.0,>=0.3.0 in /usr/local/lib/python3.7/dist-packages (from spacy<3.5.0,>=3.4.0->de-core-news-sm==3.4.0) (0.4.2)\n",
            "Requirement already satisfied: thinc<8.2.0,>=8.1.0 in /usr/local/lib/python3.7/dist-packages (from spacy<3.5.0,>=3.4.0->de-core-news-sm==3.4.0) (8.1.0)\n",
            "Requirement already satisfied: srsly<3.0.0,>=2.4.3 in /usr/local/lib/python3.7/dist-packages (from spacy<3.5.0,>=3.4.0->de-core-news-sm==3.4.0) (2.4.4)\n",
            "Requirement already satisfied: pydantic!=1.8,!=1.8.1,<1.10.0,>=1.7.4 in /usr/local/lib/python3.7/dist-packages (from spacy<3.5.0,>=3.4.0->de-core-news-sm==3.4.0) (1.9.2)\n",
            "Requirement already satisfied: cymem<2.1.0,>=2.0.2 in /usr/local/lib/python3.7/dist-packages (from spacy<3.5.0,>=3.4.0->de-core-news-sm==3.4.0) (2.0.6)\n",
            "Requirement already satisfied: catalogue<2.1.0,>=2.0.6 in /usr/local/lib/python3.7/dist-packages (from spacy<3.5.0,>=3.4.0->de-core-news-sm==3.4.0) (2.0.8)\n",
            "Requirement already satisfied: requests<3.0.0,>=2.13.0 in /usr/local/lib/python3.7/dist-packages (from spacy<3.5.0,>=3.4.0->de-core-news-sm==3.4.0) (2.23.0)\n",
            "Requirement already satisfied: preshed<3.1.0,>=3.0.2 in /usr/local/lib/python3.7/dist-packages (from spacy<3.5.0,>=3.4.0->de-core-news-sm==3.4.0) (3.0.7)\n",
            "Requirement already satisfied: tqdm<5.0.0,>=4.38.0 in /usr/local/lib/python3.7/dist-packages (from spacy<3.5.0,>=3.4.0->de-core-news-sm==3.4.0) (4.64.1)\n",
            "Requirement already satisfied: setuptools in /usr/local/lib/python3.7/dist-packages (from spacy<3.5.0,>=3.4.0->de-core-news-sm==3.4.0) (57.4.0)\n",
            "Requirement already satisfied: packaging>=20.0 in /usr/local/lib/python3.7/dist-packages (from spacy<3.5.0,>=3.4.0->de-core-news-sm==3.4.0) (21.3)\n",
            "Requirement already satisfied: jinja2 in /usr/local/lib/python3.7/dist-packages (from spacy<3.5.0,>=3.4.0->de-core-news-sm==3.4.0) (2.11.3)\n",
            "Requirement already satisfied: numpy>=1.15.0 in /usr/local/lib/python3.7/dist-packages (from spacy<3.5.0,>=3.4.0->de-core-news-sm==3.4.0) (1.21.6)\n",
            "Requirement already satisfied: spacy-loggers<2.0.0,>=1.0.0 in /usr/local/lib/python3.7/dist-packages (from spacy<3.5.0,>=3.4.0->de-core-news-sm==3.4.0) (1.0.3)\n",
            "Requirement already satisfied: murmurhash<1.1.0,>=0.28.0 in /usr/local/lib/python3.7/dist-packages (from spacy<3.5.0,>=3.4.0->de-core-news-sm==3.4.0) (1.0.8)\n",
            "Requirement already satisfied: zipp>=0.5 in /usr/local/lib/python3.7/dist-packages (from catalogue<2.1.0,>=2.0.6->spacy<3.5.0,>=3.4.0->de-core-news-sm==3.4.0) (3.8.1)\n",
            "Requirement already satisfied: pyparsing!=3.0.5,>=2.0.2 in /usr/local/lib/python3.7/dist-packages (from packaging>=20.0->spacy<3.5.0,>=3.4.0->de-core-news-sm==3.4.0) (3.0.9)\n",
            "Requirement already satisfied: smart-open<6.0.0,>=5.2.1 in /usr/local/lib/python3.7/dist-packages (from pathy>=0.3.5->spacy<3.5.0,>=3.4.0->de-core-news-sm==3.4.0) (5.2.1)\n",
            "Requirement already satisfied: chardet<4,>=3.0.2 in /usr/local/lib/python3.7/dist-packages (from requests<3.0.0,>=2.13.0->spacy<3.5.0,>=3.4.0->de-core-news-sm==3.4.0) (3.0.4)\n",
            "Requirement already satisfied: idna<3,>=2.5 in /usr/local/lib/python3.7/dist-packages (from requests<3.0.0,>=2.13.0->spacy<3.5.0,>=3.4.0->de-core-news-sm==3.4.0) (2.10)\n",
            "Requirement already satisfied: certifi>=2017.4.17 in /usr/local/lib/python3.7/dist-packages (from requests<3.0.0,>=2.13.0->spacy<3.5.0,>=3.4.0->de-core-news-sm==3.4.0) (2022.6.15)\n",
            "Requirement already satisfied: urllib3!=1.25.0,!=1.25.1,<1.26,>=1.21.1 in /usr/local/lib/python3.7/dist-packages (from requests<3.0.0,>=2.13.0->spacy<3.5.0,>=3.4.0->de-core-news-sm==3.4.0) (1.25.11)\n",
            "Requirement already satisfied: blis<0.8.0,>=0.7.8 in /usr/local/lib/python3.7/dist-packages (from thinc<8.2.0,>=8.1.0->spacy<3.5.0,>=3.4.0->de-core-news-sm==3.4.0) (0.7.8)\n",
            "Requirement already satisfied: click<9.0.0,>=7.1.1 in /usr/local/lib/python3.7/dist-packages (from typer<0.5.0,>=0.3.0->spacy<3.5.0,>=3.4.0->de-core-news-sm==3.4.0) (7.1.2)\n",
            "Requirement already satisfied: MarkupSafe>=0.23 in /usr/local/lib/python3.7/dist-packages (from jinja2->spacy<3.5.0,>=3.4.0->de-core-news-sm==3.4.0) (2.0.1)\n",
            "Installing collected packages: de-core-news-sm\n",
            "Successfully installed de-core-news-sm-3.4.0\n",
            "\u001b[38;5;2m✔ Download and installation successful\u001b[0m\n",
            "You can now load the package via spacy.load('de_core_news_sm')\n",
            "--2022-09-30 10:06:36--  http://www.quest.dcs.shef.ac.uk/wmt16_files_mmt/training.tar.gz\n",
            "Resolving www.quest.dcs.shef.ac.uk (www.quest.dcs.shef.ac.uk)... 143.167.8.76\n",
            "Connecting to www.quest.dcs.shef.ac.uk (www.quest.dcs.shef.ac.uk)|143.167.8.76|:80... connected.\n",
            "HTTP request sent, awaiting response... 302 Found\n",
            "Location: https://www.quest.dcs.shef.ac.uk/wmt16_files_mmt/training.tar.gz [following]\n",
            "--2022-09-30 10:06:36--  https://www.quest.dcs.shef.ac.uk/wmt16_files_mmt/training.tar.gz\n",
            "Connecting to www.quest.dcs.shef.ac.uk (www.quest.dcs.shef.ac.uk)|143.167.8.76|:443... connected.\n",
            "HTTP request sent, awaiting response... 200 OK\n",
            "Length: 1207136 (1.2M) [application/x-gzip]\n",
            "Saving to: ‘training.tar.gz’\n",
            "\n",
            "training.tar.gz     100%[===================>]   1.15M   901KB/s    in 1.3s    \n",
            "\n",
            "2022-09-30 10:06:38 (901 KB/s) - ‘training.tar.gz’ saved [1207136/1207136]\n",
            "\n",
            "URL transformed to HTTPS due to an HSTS policy\n",
            "--2022-09-30 10:06:38--  https://www.quest.dcs.shef.ac.uk/wmt16_files_mmt/validation.tar.gz\n",
            "Resolving www.quest.dcs.shef.ac.uk (www.quest.dcs.shef.ac.uk)... 143.167.8.76\n",
            "Connecting to www.quest.dcs.shef.ac.uk (www.quest.dcs.shef.ac.uk)|143.167.8.76|:443... connected.\n",
            "HTTP request sent, awaiting response... 200 OK\n",
            "Length: 46329 (45K) [application/x-gzip]\n",
            "Saving to: ‘validation.tar.gz’\n",
            "\n",
            "validation.tar.gz   100%[===================>]  45.24K   223KB/s    in 0.2s    \n",
            "\n",
            "2022-09-30 10:06:39 (223 KB/s) - ‘validation.tar.gz’ saved [46329/46329]\n",
            "\n",
            "URL transformed to HTTPS due to an HSTS policy\n",
            "--2022-09-30 10:06:39--  https://www.quest.dcs.shef.ac.uk/wmt16_files_mmt/mmt16_task1_test.tar.gz\n",
            "Resolving www.quest.dcs.shef.ac.uk (www.quest.dcs.shef.ac.uk)... 143.167.8.76\n",
            "Connecting to www.quest.dcs.shef.ac.uk (www.quest.dcs.shef.ac.uk)|143.167.8.76|:443... connected.\n",
            "HTTP request sent, awaiting response... 200 OK\n",
            "Length: 43905 (43K) [application/x-gzip]\n",
            "Saving to: ‘mmt16_task1_test.tar.gz’\n",
            "\n",
            "mmt16_task1_test.ta 100%[===================>]  42.88K   212KB/s    in 0.2s    \n",
            "\n",
            "2022-09-30 10:06:40 (212 KB/s) - ‘mmt16_task1_test.tar.gz’ saved [43905/43905]\n",
            "\n"
          ]
        }
      ],
      "source": [
        "!pip install -U torchdata\n",
        "!pip install -U spacy\n",
        "!python -m spacy download en_core_web_sm\n",
        "!python -m spacy download de_core_news_sm\n",
        "!wget \"http://www.quest.dcs.shef.ac.uk/wmt16_files_mmt/training.tar.gz\"\n",
        "!wget \"http://www.quest.dcs.shef.ac.uk/wmt16_files_mmt/validation.tar.gz\"\n",
        "!wget \"http://www.quest.dcs.shef.ac.uk/wmt16_files_mmt/mmt16_task1_test.tar.gz\""
      ]
    },
    {
      "cell_type": "markdown",
      "source": [
        "## Imports\n",
        "\n",
        "Import evertyhing we need to train the model."
      ],
      "metadata": {
        "id": "GPHtY-SHPmEs"
      }
    },
    {
      "cell_type": "code",
      "source": [
        "from typing import List, Iterable\n",
        "\n",
        "import torch\n",
        "import torch.nn as nn\n",
        "import torch.optim as optim\n",
        "from torch.utils.data import DataLoader\n",
        "from torch.nn.utils.rnn import pad_sequence\n",
        "import torch.nn.functional as F\n",
        "\n",
        "from torchtext.data.utils import get_tokenizer\n",
        "from torchtext.vocab import build_vocab_from_iterator\n",
        "from torchtext.datasets import multi30k, Multi30k\n",
        "\n",
        "import spacy\n",
        "import numpy as np\n",
        "import matplotlib.pyplot as plt\n",
        "import matplotlib.ticker as ticker\n",
        "\n",
        "import random\n",
        "import math\n",
        "import time"
      ],
      "metadata": {
        "id": "k1RFH02cPdW-"
      },
      "execution_count": 2,
      "outputs": []
    },
    {
      "cell_type": "markdown",
      "source": [
        "We'll set the random seeds for deterministic results."
      ],
      "metadata": {
        "id": "Uu2qGR59Poqm"
      }
    },
    {
      "cell_type": "code",
      "source": [
        "SEED: int = 1234\n",
        "\n",
        "def random_seed(seed: int):\n",
        "    random.seed(seed)\n",
        "    np.random.seed(seed)\n",
        "    torch.manual_seed(seed)\n",
        "    torch.cuda.manual_seed(seed)\n",
        "    torch.backends.cudnn.determenistic = True\n",
        "\n",
        "random_seed(SEED)"
      ],
      "metadata": {
        "id": "WoTrdCGyPnAq"
      },
      "execution_count": 3,
      "outputs": []
    },
    {
      "cell_type": "markdown",
      "source": [
        "The dataset we'll be using is the [Multi30k dataset](https://github.com/multi30k/dataset). This is a dataset with ~30,000 parallel English, German and French sentences, each with ~12 words per sentence. Currently, the URL for multi30k is broken so we have to replace with temporary links to download dataset. \n",
        "\n",
        "Next, we'll create the tokenizers. A tokenizer is used to turn a string containing a sentence into a list of individual tokens that make up that string, e.g. \"good morning!\" becomes [\"good\", \"morning\", \"!\"]. We'll start talking about the sentences being a sequence of tokens from now, instead of saying they're a sequence of words. What's the difference? Well, \"good\" and \"morning\" are both words and tokens, but \"!\" is a token, not a word. \n",
        "\n",
        "```\n",
        "tokenizer_de = get_tokenizer(\"spacy\", language=\"de_core_news_sm\")\n",
        "tokenizer_en = get_tokenizer(\"spacy\", language=\"en_core_web_sm\")\n",
        "```\n",
        "spaCy has model for each language (\"de_core_news_sm\" for German and \"en_core_web_sm\" for English) which need to be loaded so we can access the tokenizer of each model. "
      ],
      "metadata": {
        "id": "a_9GATe0Ps39"
      }
    },
    {
      "cell_type": "code",
      "source": [
        "SOURCE_LANGUAGE = 'de'\n",
        "TARGET_LANGUAGE = 'en'\n",
        "\n",
        "token_transform = {}\n",
        "vocab_transform = {}\n",
        "\n",
        "token_transform[SOURCE_LANGUAGE] = get_tokenizer(\"spacy\", language=\"de_core_news_sm\")\n",
        "token_transform[TARGET_LANGUAGE] = get_tokenizer(\"spacy\", language=\"en_core_web_sm\")\n",
        "\n",
        "\n",
        "def yield_tokens(data_iter: Iterable, language: str):\n",
        "    language_index = {SOURCE_LANGUAGE: 0, TARGET_LANGUAGE: 1}\n",
        "    for data_sample in data_iter:\n",
        "        yield token_transform[language](data_sample[language_index[language]])"
      ],
      "metadata": {
        "id": "0-gqh-bFPprZ"
      },
      "execution_count": 4,
      "outputs": []
    },
    {
      "cell_type": "markdown",
      "source": [
        "Next, we'll build the *vocabulary* for the source and target languages. The vocabulary is used to associate each unique token with an index (an integer). The vocabularies of the source and target languages are distinct.\n",
        "\n",
        "`torchtext`'s `build_vocab_from_iterator` would handle create of vocabulary for us. We have to set a yield fucntion for data processing where we will tokenize sentences. Add special tokens with their correspoding indexes with in the vocabulary.Using the `min_freq` argument, we only allow tokens that appear at least 2 times to appear in our vocabulary. Tokens that appear only once are converted into an `<unk>` (unknown) token. Special tokens: `<unk>` - unknown token which is not in the vocabulary, `<pad>` - padding token to make senteces equal lenght for dataloader, `<bos>` - begining of the sentence, `<eos>` - end of the sentence.   \n",
        "\n",
        "It is important to note that our vocabulary should only be built from the training set and not the validation/test set. This prevents \"information leakage\" into our model, giving us artifically inflated validation/test scores."
      ],
      "metadata": {
        "id": "EJYO8vK1PvLU"
      }
    },
    {
      "cell_type": "code",
      "source": [
        "UNK_IDX, PAD_IDX, BOS_IDX, EOS_IDX = 0, 1, 2, 3\n",
        "special_symbols = ['<unk>', '<pad>', '<bos>', '<eos>']"
      ],
      "metadata": {
        "id": "a99WJm02Pt3w"
      },
      "execution_count": 5,
      "outputs": []
    },
    {
      "cell_type": "code",
      "source": [
        "for language in [SOURCE_LANGUAGE, TARGET_LANGUAGE]:\n",
        "    train_iter = Multi30k(root=\"/content\", split=\"train\", language_pair=(SOURCE_LANGUAGE, TARGET_LANGUAGE))\n",
        "    vocab_transform[language] = build_vocab_from_iterator(\n",
        "        yield_tokens(train_iter, language),\n",
        "        min_freq=2,\n",
        "        specials=special_symbols,\n",
        "        special_first=True\n",
        "    )\n",
        "\n",
        "for language in [SOURCE_LANGUAGE, TARGET_LANGUAGE]:\n",
        "    vocab_transform[language].set_default_index(UNK_IDX)"
      ],
      "metadata": {
        "id": "Rlr3SzRfPwh4"
      },
      "execution_count": 6,
      "outputs": []
    },
    {
      "cell_type": "markdown",
      "source": [
        "We also need to define a `torch.device`. This is used to tell torchText to put the tensors on the GPU or not. We use the `torch.cuda.is_available()` function, which will return `True` if a GPU is detected on our computer. We pass this `device` to the iterator.\n"
      ],
      "metadata": {
        "id": "8tuIDTR4PztE"
      }
    },
    {
      "cell_type": "code",
      "source": [
        "DEVICE = torch.device('cuda:0' if torch.cuda.is_available() else 'cpu')"
      ],
      "metadata": {
        "id": "iuUdri-FPxS4"
      },
      "execution_count": 7,
      "outputs": []
    },
    {
      "cell_type": "markdown",
      "source": [
        "Unlike previous version, `torchtext Field` did for us  tokenization and added special symbols, with current version of `torchtext>=0.12.0` you have to make a pipeline for text processing. `text_transform` is dictionary containg all necessary tranformation for source and target languages. Firsly, we tokenize sentences. Secondly, transform it into vocavulary indexes and add special symbol `<bos>` and `<eos>` for indication of start of senteces and ends. Finaly, transform it into `torch.Tensor`."
      ],
      "metadata": {
        "id": "wvScLfu2P4vM"
      }
    },
    {
      "cell_type": "code",
      "source": [
        "def sequential_transforms(*transforms):\n",
        "    def func(text_input: str):\n",
        "        for transform in transforms:\n",
        "            text_input = transform(text_input)\n",
        "        return text_input\n",
        "    return func\n",
        "\n",
        "def to_tensor(token_ids: List[int]):\n",
        "    return torch.cat((\n",
        "        torch.tensor([BOS_IDX]),\n",
        "        torch.tensor(token_ids),\n",
        "        torch.tensor([EOS_IDX]),\n",
        "    ))\n",
        "\n",
        "text_transform = {}\n",
        "\n",
        "for language in [SOURCE_LANGUAGE, TARGET_LANGUAGE]:\n",
        "    text_transform[language] = sequential_transforms(\n",
        "        token_transform[language],  # Tokenization\n",
        "        vocab_transform[language],  # Numericalization\n",
        "        to_tensor  # Add BOS/EOS and create tensor\n",
        "    )\n",
        "\n",
        "def collate_fn(batch):\n",
        "    source_batch, target_batch, source_len, target_len = [], [], [], []\n",
        "    for source_sample, target_sample in batch:\n",
        "        source = text_transform[SOURCE_LANGUAGE](source_sample.rstrip(\"\\n\"))\n",
        "        target = text_transform[TARGET_LANGUAGE](target_sample.rstrip(\"\\n\"))\n",
        "        source_len.append(len(source))\n",
        "        target_len.append(len(target))\n",
        "        source_batch.append((source, len(source)))\n",
        "        target_batch.append((target, len(source)))\n",
        "\n",
        "    source_batch = sorted(source_batch, key=lambda x: x[1], reverse=True)\n",
        "    target_batch = sorted(target_batch, key=lambda x: x[1], reverse=True)\n",
        "    source_batch = [x[0] for x in source_batch]\n",
        "    target_batch = [x[0] for x in target_batch]\n",
        "    source_len = sorted(source_len, reverse=True)\n",
        "    \n",
        "    source_batch = pad_sequence(source_batch, batch_first=False, padding_value=PAD_IDX)\n",
        "    target_batch = pad_sequence(target_batch, batch_first=False, padding_value=PAD_IDX)\n",
        "    return {\n",
        "        \"input\": source_batch, \"input_len\": torch.tensor(source_len),\n",
        "        \"target\": target_batch,\n",
        "    }"
      ],
      "metadata": {
        "id": "e_C_778gP2nf"
      },
      "execution_count": 8,
      "outputs": []
    },
    {
      "cell_type": "markdown",
      "source": [
        "Select a batch size for our dataloaders and make `collate_fn` function to pad our sequences. When we get a batch of examples using an iterator we need to make sure that all of the source sentences are padded to the same length, the same with the target sentences. Luckily, torchText iterators handle this for us! We use a `pad_sequence` to creates batches.\n"
      ],
      "metadata": {
        "id": "6tRjGx9DP806"
      }
    },
    {
      "cell_type": "code",
      "source": [
        "BATCH_SIZE = 64\n",
        "\n",
        "train_iter = Multi30k(root=\"/content\", split='train', language_pair=(SOURCE_LANGUAGE, TARGET_LANGUAGE))\n",
        "train_dataloader = DataLoader(train_iter, batch_size=BATCH_SIZE, collate_fn=collate_fn)\n",
        "\n",
        "valid_iter = Multi30k(root=\"/content\", split='valid', language_pair=(SOURCE_LANGUAGE, TARGET_LANGUAGE))\n",
        "valid_dataloader = DataLoader(valid_iter, batch_size=BATCH_SIZE, collate_fn=collate_fn)\n",
        "\n",
        "test_iter = Multi30k(root=\"/content\", split='test', language_pair=(SOURCE_LANGUAGE, TARGET_LANGUAGE))\n",
        "test_dataloader = DataLoader(test_iter, batch_size=BATCH_SIZE, collate_fn=collate_fn)"
      ],
      "metadata": {
        "id": "ovgI4ZMjP54_"
      },
      "execution_count": 9,
      "outputs": []
    },
    {
      "cell_type": "markdown",
      "source": [
        "## Building the Model\n",
        "\n",
        "### Encoder\n",
        "\n",
        "Next up, we define the encoder.\n",
        "\n",
        "The changes here all within the `forward` method. It now accepts the lengths of the source sentences as well as the sentences themselves. \n",
        "\n",
        "After the source sentence (padded automatically within the iterator) has been embedded, we can then use `pack_padded_sequence` on it with the lengths of the sentences. Note that the tensor containing the lengths of the sequences must be a CPU tensor as of the latest version of PyTorch, which we explicitly do so with `to('cpu')`. `packed_embedded` will then be our packed padded sequence. This can be then fed to our RNN as normal which will return `packed_outputs`, a packed tensor containing all of the hidden states from the sequence, and `hidden` which is simply the final hidden state from our sequence. `hidden` is a standard tensor and not packed in any way, the only difference is that as the input was a packed sequence, this tensor is from the final **non-padded element** in the sequence.\n",
        "\n",
        "We then unpack our `packed_outputs` using `pad_packed_sequence` which returns the `outputs` and the lengths of each, which we don't need. \n",
        "\n",
        "The first dimension of `outputs` is the padded sequence lengths however due to using a packed padded sequence the values of tensors when a padding token was the input will be all zeros."
      ],
      "metadata": {
        "id": "O_A9r4-YQK3y"
      }
    },
    {
      "cell_type": "code",
      "source": [
        "class Encoder(nn.Module):\n",
        "    def __init__(\n",
        "        self,\n",
        "        input_dim: int,\n",
        "        embed_dim: int,\n",
        "        enc_hidden_dim: int,\n",
        "        dec_hidden_dim: int,\n",
        "        dropout: float\n",
        "    ):\n",
        "        super(Encoder, self).__init__()\n",
        "        self.embedding = nn.Embedding(input_dim, embed_dim)\n",
        "\n",
        "        self.rnn = nn.GRU(embed_dim, enc_hidden_dim, bidirectional=True)\n",
        "\n",
        "        self.fc = nn.Linear(enc_hidden_dim * 2, dec_hidden_dim)\n",
        "\n",
        "        self.dropout = nn.Dropout(p=dropout)\n",
        "\n",
        "    def forward(self, x, x_len):\n",
        "        # x = [src len, batch size]\n",
        "        # x_len = [batch size]\n",
        "        embeddings = self.dropout(self.embedding(x))\n",
        "        #embedded = [src len, batch size, emb dim]\n",
        "        \n",
        "        # need to explicitly put lengths on cpu!\n",
        "        # x_len.to(\"cpu\")\n",
        "        x_len = x_len.to(\"cpu\")\n",
        "        packed_embeddings = nn.utils.rnn.pack_padded_sequence(embeddings, x_len)\n",
        "\n",
        "        packed_outputs, hidden = self.rnn(packed_embeddings)\n",
        "                                 \n",
        "        # packed_outputs is a packed sequence containing all hidden states\n",
        "        # hidden is now from the final non-padded element in the batch\n",
        "\n",
        "        outputs, _ = nn.utils.rnn.pad_packed_sequence(packed_outputs)\n",
        "\n",
        "        # outputs is now a non-packed sequence, all hidden states obtained\n",
        "        # when the input is a pad token are all zeros\n",
        "\n",
        "        # outputs = [src len, batch size, hid dim * num directions]\n",
        "        # hidden = [n layers * num directions, batch size, hid dim]\n",
        "        \n",
        "        # hidden is stacked [forward_1, backward_1, forward_2, backward_2, ...]\n",
        "        # outputs are always from the last layer\n",
        "        \n",
        "        # hidden [-2, :, : ] is the last of the forwards RNN \n",
        "        # hidden [-1, :, : ] is the last of the backwards RNN\n",
        "        \n",
        "        # initial decoder hidden is final hidden state of the forwards and backwards \n",
        "        # encoder RNNs fed through a linear layer\n",
        "\n",
        "        hidden_cat = torch.cat((hidden[-2, :, :], hidden[-1, :, :]), dim=1)\n",
        "        hidden_cat = self.fc(hidden_cat)\n",
        "\n",
        "        hidden = torch.tanh(hidden_cat)\n",
        "\n",
        "        return outputs, hidden"
      ],
      "metadata": {
        "id": "ZuEkj4uwQIU2"
      },
      "execution_count": 10,
      "outputs": []
    },
    {
      "cell_type": "markdown",
      "source": [
        "### Attention\n",
        "\n",
        "The attention module is where we calculate the attention values over the source sentence. \n",
        "\n",
        "Previously, we allowed this module to \"pay attention\" to padding tokens within the source sentence. However, using *masking*, we can force the attention to only be over non-padding elements.\n",
        "\n",
        "The `forward` method now takes a `mask` input. This is a **[batch size, source sentence length]** tensor that is 1 when the source sentence token is not a padding token, and 0 when it is a padding token. For example, if the source sentence is: [\"hello\", \"how\", \"are\", \"you\", \"?\", `<pad>`, `<pad>`], then the mask would be [1, 1, 1, 1, 1, 0, 0].\n",
        "\n",
        "We apply the mask after the attention has been calculated, but before it has been normalized by the `softmax` function. It is applied using `masked_fill`. This fills the tensor at each element where the first argument (`mask == 0`) is true, with the value given by the second argument (`-1e10`). In other words, it will take the un-normalized attention values, and change the attention values over padded elements to be `-1e10`. As these numbers will be miniscule compared to the other values they will become zero when passed through the `softmax` layer, ensuring no attention is payed to padding tokens in the source sentence."
      ],
      "metadata": {
        "id": "BVcVT5t7YIn3"
      }
    },
    {
      "cell_type": "code",
      "source": [
        "class Attention(nn.Module):\n",
        "    def __init__(self, enc_hidden_dim: int, dec_hidden_dim: int):\n",
        "        super(Attention, self).__init__()\n",
        "\n",
        "        self.attn = nn.Linear(enc_hidden_dim * 2 + dec_hidden_dim, dec_hidden_dim)\n",
        "        self.v = nn.Linear(dec_hidden_dim, 1, bias=False)\n",
        "\n",
        "    def forward(self, hidden, encoder_outputs, mask):\n",
        "        #hidden = [batch size, dec hid dim]\n",
        "        #encoder_outputs = [src len, batch size, enc hid dim * 2]\n",
        "\n",
        "        batch_size = encoder_outputs.size(1)\n",
        "        source_len = encoder_outputs.size(0)\n",
        "        \n",
        "        hidden = hidden.unsqueeze(1).repeat(1, source_len, 1)\n",
        "\n",
        "        encoder_outputs = encoder_outputs.permute(1, 0, 2)\n",
        "\n",
        "        #hidden = [batch size, src len, dec hid dim]\n",
        "        #encoder_outputs = [batch size, src len, enc hid dim * 2]\n",
        "        # print(hidden.shape, encoder_outputs.shape)\n",
        "        input = torch.cat((hidden, encoder_outputs), dim=2)\n",
        "        # torch.Size([64, 64, 512]) torch.Size([64, 27, 1024])\n",
        "        energy = torch.tanh(self.attn(input))\n",
        "        #energy = [batch size, src len, dec hid dim]\n",
        "\n",
        "        attention = self.v(energy).squeeze(2)\n",
        "        #attention= [batch size, src len]\n",
        "\n",
        "        attention = attention.masked_fill(mask == 0, -1e10)\n",
        "\n",
        "        return F.softmax(attention, dim=1)"
      ],
      "metadata": {
        "id": "LRTG235WiFiv"
      },
      "execution_count": 11,
      "outputs": []
    },
    {
      "cell_type": "markdown",
      "source": [
        "### Decoder\n",
        "\n",
        "The decoder only needs a few small changes. It needs to accept a mask over the source sentence and pass this to the attention module. As we want to view the values of attention during inference, we also return the attention tensor."
      ],
      "metadata": {
        "id": "feD1Z4HRYKiu"
      }
    },
    {
      "cell_type": "code",
      "source": [
        "class Decoder(nn.Module):\n",
        "    def __init__(\n",
        "        self,\n",
        "        output_dim: int,\n",
        "        embed_dim: int,\n",
        "        enc_hidden_dim: int,\n",
        "        dec_hidden_dim: int,\n",
        "        dropout: float,\n",
        "        attention\n",
        "    ):\n",
        "        super(Decoder, self).__init__()\n",
        "\n",
        "        self.output_dim = output_dim\n",
        "        self.attention = attention\n",
        "\n",
        "        self.embedding = nn.Embedding(output_dim, embed_dim)\n",
        "        self.rnn = nn.GRU(enc_hidden_dim * 2 + embed_dim, dec_hidden_dim)\n",
        "\n",
        "        self.fc = nn.Linear(enc_hidden_dim * 2 + dec_hidden_dim + embed_dim, output_dim)\n",
        "\n",
        "        self.dropout = nn.Dropout(p=dropout)\n",
        "\n",
        "    def forward(self, input, hidden, encoder_outputs, mask):\n",
        "        #input = [batch size]\n",
        "        #hidden = [batch size, dec hid dim]\n",
        "        #encoder_outputs = [src len, batch size, enc hid dim * 2]\n",
        "        #mask = [batch size, src len]\n",
        "\n",
        "        input = input.unsqueeze(0)\n",
        "        #input = [1, batch size]\n",
        "\n",
        "        embeddings = self.dropout(self.embedding(input))\n",
        "        #embedded = [1, batch size, emb dim]\n",
        "\n",
        "        attention = self.attention(hidden, encoder_outputs, mask)\n",
        "        #attention = [batch size, src len]\n",
        "        \n",
        "        attention = attention.unsqueeze(1)\n",
        "        #attention = [batch size, 1, src len]\n",
        "\n",
        "        encoder_outputs = encoder_outputs.permute(1, 0, 2)\n",
        "        #encoder_outputs = [batch size, src len, enc hid dim * 2]\n",
        "\n",
        "        weighted = torch.bmm(attention, encoder_outputs)\n",
        "        #weighted = [batch size, 1, enc hid dim * 2]\n",
        "\n",
        "        weighted = weighted.permute(1, 0, 2)\n",
        "        #weighted = [1, batch size, enc hid dim * 2]\n",
        "\n",
        "        rnn_input = torch.cat((embeddings, weighted),dim=2)\n",
        "        #rnn_input = [1, batch size, (enc hid dim * 2) + emb dim]\n",
        "\n",
        "        output, hidden = self.rnn(rnn_input, hidden.unsqueeze(0))\n",
        "        \n",
        "        #output = [seq len, batch size, dec hid dim * n directions]\n",
        "        #hidden = [n layers * n directions, batch size, dec hid dim]\n",
        "        \n",
        "        #seq len, n layers and n directions will always be 1 in this decoder, therefore:\n",
        "        #output = [1, batch size, dec hid dim]\n",
        "        #hidden = [1, batch size, dec hid dim]\n",
        "        #this also means that output == hidden\n",
        "        assert (output == hidden).all()\n",
        "\n",
        "        embeddings = embeddings.squeeze(0)\n",
        "        output = output.squeeze(0)\n",
        "        weighted = weighted.squeeze(0)\n",
        "        #print(output.shape, weighted.shape, embeddings.shape)\n",
        "        predictions = self.fc(torch.cat((output, weighted, embeddings), dim=1))\n",
        "        #print(predictions.shape)\n",
        "\n",
        "        return predictions, hidden.squeeze(0), attention.squeeze(1)"
      ],
      "metadata": {
        "id": "wDTLkEB_t4zQ"
      },
      "execution_count": 12,
      "outputs": []
    },
    {
      "cell_type": "markdown",
      "source": [
        "### Seq2Seq\n",
        "\n",
        "The overarching seq2seq model also needs a few changes for packed padded sequences, masking and inference. \n",
        "\n",
        "We need to tell it what the indexes are for the pad token and also pass the source sentence lengths as input to the `forward` method.\n",
        "\n",
        "We use the pad token index to create the masks, by creating a mask tensor that is 1 wherever the source sentence is not equal to the pad token. This is all done within the `create_mask` function.\n",
        "\n",
        "The sequence lengths as needed to pass to the encoder to use packed padded sequences.\n",
        "\n",
        "The attention at each time-step is stored in the `attentions` "
      ],
      "metadata": {
        "id": "ppxaGewrYMMW"
      }
    },
    {
      "cell_type": "code",
      "source": [
        "class Seq2Seq(nn.Module):\n",
        "    def __init__(self, encoder: Encoder, decoder: Decoder, pad_idx: int, device: str):\n",
        "        super(Seq2Seq, self).__init__()\n",
        "        self.encoder = encoder\n",
        "        self.decoder = decoder\n",
        "        self.device = device\n",
        "        self.pad_idx = pad_idx\n",
        "\n",
        "    def create_mask(self, input):\n",
        "        mask = (input != self.pad_idx).permute(1, 0)\n",
        "        return mask\n",
        "\n",
        "    def forward(self, data, teacher_forcing_ratio: float = 0.5):\n",
        "        \n",
        "        # src = [src len, batch size]\n",
        "        # input_len = [batch size]\n",
        "        # trg = [trg len, batch size]\n",
        "        # teacher_forcing_ratio is probability to use teacher forcing\n",
        "        # e.g. if teacher_forcing_ratio is 0.75 we use teacher forcing 75% of the time\n",
        " \n",
        "        # \"input\": source_batch, \"input_len\": source_len,\n",
        "        # \"target\": target_batch, \"target_len\": target_len,\n",
        "\n",
        "        for k, v in data.items():\n",
        "            data[k] = v.to(self.device)\n",
        "\n",
        "        batch_size = data[\"target\"].size(1)\n",
        "        target_len = data[\"target\"].size(0)\n",
        "        target_vocab_size = self.decoder.output_dim\n",
        "\n",
        "        outputs = torch.zeros(target_len, batch_size, target_vocab_size).to(self.device)\n",
        "\n",
        "        encoder_outputs, hidden = self.encoder(data[\"input\"], data[\"input_len\"])\n",
        "\n",
        "        input = data[\"input\"][0, :]\n",
        "        \n",
        "        mask = self.create_mask(data[\"input\"])\n",
        "        # mask = [batch size, src len]\n",
        "\n",
        "        for t in range(1, target_len):\n",
        "            # insert input token embedding, previous hidden state and all encoder hidden states\n",
        "            # receive output tensor (predictions) and new hidden state\n",
        "            output, hidden, _ = self.decoder(input, hidden, encoder_outputs, mask)\n",
        "\n",
        "            outputs[t] = output\n",
        "\n",
        "            teacher_force = random.random() < teacher_forcing_ratio\n",
        "\n",
        "            top1 = output.argmax(1)\n",
        "\n",
        "            input = data[\"target\"][t, :] if teacher_force else top1\n",
        "\n",
        "        return outputs"
      ],
      "metadata": {
        "id": "6InceqoLxdJH"
      },
      "execution_count": 13,
      "outputs": []
    },
    {
      "cell_type": "markdown",
      "source": [
        "## Training the Seq2Seq Model\n",
        "\n",
        "The rest of this tutorial is very similar to the previous one.\n",
        "\n",
        "We initialise our parameters, encoder, decoder and seq2seq model (placing it on the GPU if we have one). "
      ],
      "metadata": {
        "id": "pTm0-f5jYNcc"
      }
    },
    {
      "cell_type": "code",
      "source": [
        "INPUT_DIM = len(vocab_transform[SOURCE_LANGUAGE])\n",
        "OUTPUT_DIM = len(vocab_transform[TARGET_LANGUAGE])\n",
        "ENC_EMB_DIM = 256\n",
        "DEC_EMB_DIM = 256\n",
        "ENC_HIDDEN_DIM = 512\n",
        "DEC_HIDDEN_DIM = 512\n",
        "ENC_DROPOUT = 0.5\n",
        "DEC_DROPOUT = 0.5\n",
        "\n",
        "attnention = Attention(ENC_HIDDEN_DIM, DEC_HIDDEN_DIM)\n",
        "encoder = Encoder(INPUT_DIM, ENC_EMB_DIM, ENC_HIDDEN_DIM, DEC_HIDDEN_DIM, ENC_DROPOUT)\n",
        "decoder = Decoder(OUTPUT_DIM, ENC_EMB_DIM, ENC_HIDDEN_DIM, DEC_HIDDEN_DIM, ENC_DROPOUT, attnention)\n",
        "\n",
        "model = Seq2Seq(encoder, decoder, PAD_IDX, DEVICE).to(DEVICE)"
      ],
      "metadata": {
        "id": "5ajyNWiZzjuu"
      },
      "execution_count": 14,
      "outputs": []
    },
    {
      "cell_type": "markdown",
      "source": [
        "We use a simplified version of the weight initialization scheme used in the paper. Here, we will initialize all biases to zero and all weights from $\\mathcal{N}(0, 0.01)$."
      ],
      "metadata": {
        "id": "9rEbMi9hYO7z"
      }
    },
    {
      "cell_type": "code",
      "source": [
        "def init_weights(m):\n",
        "    for name, param in m.named_parameters():\n",
        "        if 'weight' in name:\n",
        "            nn.init.normal_(param.data, mean=0, std=0.01)\n",
        "        else:\n",
        "            nn.init.constant_(param.data, 0)\n",
        "            \n",
        "model.apply(init_weights)"
      ],
      "metadata": {
        "colab": {
          "base_uri": "https://localhost:8080/"
        },
        "id": "5JkCWSqo0YOW",
        "outputId": "e4fe0711-89b2-4448-97a9-d347f129ade4"
      },
      "execution_count": 15,
      "outputs": [
        {
          "output_type": "execute_result",
          "data": {
            "text/plain": [
              "Seq2Seq(\n",
              "  (encoder): Encoder(\n",
              "    (embedding): Embedding(8014, 256)\n",
              "    (rnn): GRU(256, 512, bidirectional=True)\n",
              "    (fc): Linear(in_features=1024, out_features=512, bias=True)\n",
              "    (dropout): Dropout(p=0.5, inplace=False)\n",
              "  )\n",
              "  (decoder): Decoder(\n",
              "    (attention): Attention(\n",
              "      (attn): Linear(in_features=1536, out_features=512, bias=True)\n",
              "      (v): Linear(in_features=512, out_features=1, bias=False)\n",
              "    )\n",
              "    (embedding): Embedding(6191, 256)\n",
              "    (rnn): GRU(1280, 512)\n",
              "    (fc): Linear(in_features=1792, out_features=6191, bias=True)\n",
              "    (dropout): Dropout(p=0.5, inplace=False)\n",
              "  )\n",
              ")"
            ]
          },
          "metadata": {},
          "execution_count": 15
        }
      ]
    },
    {
      "cell_type": "markdown",
      "source": [
        "Calculate the number of parameters. We get an increase of almost 50% in the amount of parameters from the last model. "
      ],
      "metadata": {
        "id": "fBxkP9bIYRy8"
      }
    },
    {
      "cell_type": "code",
      "source": [
        "def count_parameters(model):\n",
        "    return sum(p.numel() for p in model.parameters() if p.requires_grad)\n",
        "\n",
        "print(f'The model has {count_parameters(model):,} trainable parameters')"
      ],
      "metadata": {
        "colab": {
          "base_uri": "https://localhost:8080/"
        },
        "id": "ZWHedsXw0h5n",
        "outputId": "b358f742-a882-4065-e6fe-3d723c705cf0"
      },
      "execution_count": 16,
      "outputs": [
        {
          "output_type": "stream",
          "name": "stdout",
          "text": [
            "The model has 21,170,223 trainable parameters\n"
          ]
        }
      ]
    },
    {
      "cell_type": "markdown",
      "source": [
        "We create an optimizer."
      ],
      "metadata": {
        "id": "ELxRYvMoYT76"
      }
    },
    {
      "cell_type": "code",
      "source": [
        "optimizer = optim.Adam(model.parameters())"
      ],
      "metadata": {
        "id": "3MPV1qL40jyv"
      },
      "execution_count": 17,
      "outputs": []
    },
    {
      "cell_type": "markdown",
      "source": [
        "We initialize the loss function."
      ],
      "metadata": {
        "id": "oWxUWByBYVTx"
      }
    },
    {
      "cell_type": "code",
      "source": [
        "criterion = nn.CrossEntropyLoss(ignore_index=PAD_IDX)"
      ],
      "metadata": {
        "id": "Ga3xr8410lBu"
      },
      "execution_count": 18,
      "outputs": []
    },
    {
      "cell_type": "markdown",
      "source": [
        "We then create the training loop..."
      ],
      "metadata": {
        "id": "ZQwDjQnAYWzY"
      }
    },
    {
      "cell_type": "code",
      "source": [
        "def train(model, dataloader, optimizer, criterion, clip: float):\n",
        "    model.train()\n",
        "\n",
        "    epoch_loss = 0\n",
        "\n",
        "    for i, data in enumerate(dataloader):\n",
        "\n",
        "        optimizer.zero_grad()\n",
        "\n",
        "        output = model(data)\n",
        "\n",
        "        output_dim = output.size(-1)\n",
        "        \n",
        "        output = output[1:].view(-1, output_dim)\n",
        "        target = data[\"target\"][1:].view(-1)\n",
        "        \n",
        "        loss = criterion(output, target)\n",
        "\n",
        "        loss.backward()\n",
        "\n",
        "        torch.nn.utils.clip_grad_norm_(model.parameters(), clip)\n",
        "\n",
        "        optimizer.step()\n",
        "\n",
        "        epoch_loss += loss.item()\n",
        "\n",
        "    return epoch_loss / len(list(dataloader))"
      ],
      "metadata": {
        "id": "uCxGscvw0l3_"
      },
      "execution_count": 19,
      "outputs": []
    },
    {
      "cell_type": "markdown",
      "source": [
        "...and the evaluation loop, remembering to set the model to `eval` mode and turn off teaching forcing."
      ],
      "metadata": {
        "id": "IK9oXEq-YZVf"
      }
    },
    {
      "cell_type": "code",
      "source": [
        "def evaluate(model, dataloader, optimizer, criterion):\n",
        "    model.eval()\n",
        "\n",
        "    epoch_loss = 0\n",
        "\n",
        "    with torch.no_grad():\n",
        "\n",
        "        for i, data in enumerate(dataloader):\n",
        "\n",
        "            optimizer.zero_grad()\n",
        "\n",
        "            output = model(data, 0)\n",
        "\n",
        "            output_dim = output.size(-1)\n",
        "\n",
        "            output = output[1:].view(-1, output_dim)\n",
        "            target = data[\"target\"][1:].view(-1)\n",
        "            \n",
        "            loss = criterion(output, target)\n",
        "\n",
        "            epoch_loss += loss.item()\n",
        "\n",
        "    return epoch_loss / len(list(dataloader))"
      ],
      "metadata": {
        "id": "QEllzMee0pf3"
      },
      "execution_count": 20,
      "outputs": []
    },
    {
      "cell_type": "markdown",
      "source": [
        "Finally, define a timing function."
      ],
      "metadata": {
        "id": "TJ8onroFaqEr"
      }
    },
    {
      "cell_type": "code",
      "source": [
        "def epoch_time(start_time, end_time):\n",
        "    elapsed_time = end_time - start_time\n",
        "    elapsed_mins = int(elapsed_time / 60)\n",
        "    elapsed_secs = int(elapsed_time - (elapsed_mins * 60))\n",
        "    return elapsed_mins, elapsed_secs"
      ],
      "metadata": {
        "id": "6e5cpIZg0rVm"
      },
      "execution_count": 21,
      "outputs": []
    },
    {
      "cell_type": "markdown",
      "source": [
        "Then, we train our model, saving the parameters that give us the best validation loss."
      ],
      "metadata": {
        "id": "XN1jdn14aqr-"
      }
    },
    {
      "cell_type": "code",
      "source": [
        "N_EPOCHS = 10\n",
        "CLIP = 1\n",
        "\n",
        "best_valid_loss = float(\"inf\")\n",
        "\n",
        "for epoch in range(N_EPOCHS):\n",
        "\n",
        "    start_time = time.time()\n",
        "    train_loss = train(model, train_dataloader, optimizer, criterion, CLIP)\n",
        "    valid_loss = evaluate(model, valid_dataloader, optimizer, criterion)\n",
        "    \n",
        "    end_time = time.time()\n",
        "\n",
        "    epoch_mins, epoch_secs = epoch_time(start_time, end_time)\n",
        "\n",
        "    if valid_loss < best_valid_loss:\n",
        "        best_valid_loss = valid_loss\n",
        "        torch.save(model.state_dict(), 'model.pth')\n",
        "    \n",
        "    print(f'Epoch: {epoch+1:02} | Time: {epoch_mins}m {epoch_secs}s')\n",
        "    print(f'\\tTrain Loss: {train_loss:.3f} | Train PPL: {math.exp(train_loss):7.3f}')\n",
        "    print(f'\\t Val. Loss: {valid_loss:.3f} |  Val. PPL: {math.exp(valid_loss):7.3f}')"
      ],
      "metadata": {
        "colab": {
          "base_uri": "https://localhost:8080/"
        },
        "id": "LAHJDZzs0sl_",
        "outputId": "3d6ea805-1cd6-4f5b-f565-55c47d2e8f00"
      },
      "execution_count": 22,
      "outputs": [
        {
          "output_type": "stream",
          "name": "stderr",
          "text": [
            "/usr/local/lib/python3.7/dist-packages/torch/utils/data/datapipes/iter/combining.py:249: UserWarning: Some child DataPipes are not exhausted when __iter__ is called. We are resetting the buffer and each child DataPipe will read from the start again.\n",
            "  \"the buffer and each child DataPipe will read from the start again.\", UserWarning)\n"
          ]
        },
        {
          "output_type": "stream",
          "name": "stdout",
          "text": [
            "Epoch: 01 | Time: 1m 38s\n",
            "\tTrain Loss: 4.648 | Train PPL: 104.355\n",
            "\t Val. Loss: 4.374 |  Val. PPL:  79.390\n",
            "Epoch: 02 | Time: 1m 37s\n",
            "\tTrain Loss: 3.390 | Train PPL:  29.661\n",
            "\t Val. Loss: 3.671 |  Val. PPL:  39.275\n",
            "Epoch: 03 | Time: 1m 37s\n",
            "\tTrain Loss: 2.761 | Train PPL:  15.819\n",
            "\t Val. Loss: 3.412 |  Val. PPL:  30.340\n",
            "Epoch: 04 | Time: 1m 38s\n",
            "\tTrain Loss: 2.370 | Train PPL:  10.696\n",
            "\t Val. Loss: 3.303 |  Val. PPL:  27.184\n",
            "Epoch: 05 | Time: 1m 37s\n",
            "\tTrain Loss: 2.076 | Train PPL:   7.969\n",
            "\t Val. Loss: 3.389 |  Val. PPL:  29.641\n",
            "Epoch: 06 | Time: 1m 38s\n",
            "\tTrain Loss: 1.834 | Train PPL:   6.256\n",
            "\t Val. Loss: 3.334 |  Val. PPL:  28.039\n",
            "Epoch: 07 | Time: 1m 38s\n",
            "\tTrain Loss: 1.639 | Train PPL:   5.150\n",
            "\t Val. Loss: 3.431 |  Val. PPL:  30.918\n",
            "Epoch: 08 | Time: 1m 38s\n",
            "\tTrain Loss: 1.505 | Train PPL:   4.504\n",
            "\t Val. Loss: 3.501 |  Val. PPL:  33.141\n",
            "Epoch: 09 | Time: 1m 38s\n",
            "\tTrain Loss: 1.400 | Train PPL:   4.057\n",
            "\t Val. Loss: 3.614 |  Val. PPL:  37.112\n",
            "Epoch: 10 | Time: 1m 38s\n",
            "\tTrain Loss: 1.281 | Train PPL:   3.601\n",
            "\t Val. Loss: 3.645 |  Val. PPL:  38.277\n"
          ]
        }
      ]
    },
    {
      "cell_type": "markdown",
      "source": [
        "Finally, we test the model on the test set using these \"best\" parameters."
      ],
      "metadata": {
        "id": "CojGlc0KatQF"
      }
    },
    {
      "cell_type": "code",
      "source": [
        "model.load_state_dict(torch.load('model.pth'))"
      ],
      "metadata": {
        "colab": {
          "base_uri": "https://localhost:8080/"
        },
        "id": "Peur7TZF0uOP",
        "outputId": "b893b886-3a57-4744-b3c6-77e5b1dc2fc1"
      },
      "execution_count": 23,
      "outputs": [
        {
          "output_type": "execute_result",
          "data": {
            "text/plain": [
              "<All keys matched successfully>"
            ]
          },
          "metadata": {},
          "execution_count": 23
        }
      ]
    },
    {
      "cell_type": "code",
      "source": [
        "test_loss = evaluate(model, test_dataloader, optimizer, criterion)\n",
        "\n",
        "print(f'| Test Loss: {test_loss:.3f} | Test PPL: {math.exp(test_loss):7.3f} |')"
      ],
      "metadata": {
        "colab": {
          "base_uri": "https://localhost:8080/"
        },
        "id": "mu_UVVBt6weL",
        "outputId": "46d47743-6c2b-44e6-a72d-674c8dfdacbe"
      },
      "execution_count": 24,
      "outputs": [
        {
          "output_type": "stream",
          "name": "stdout",
          "text": [
            "| Test Loss: 3.286 | Test PPL:  26.747 |\n"
          ]
        }
      ]
    },
    {
      "cell_type": "code",
      "source": [
        "model.eval()\n",
        "\n",
        "epoch_loss = 0\n",
        "with torch.no_grad():\n",
        "    for i, batch in enumerate(test_dataloader):\n",
        "        for k, v in batch.items():\n",
        "            batch[k] = v.to(DEVICE)\n",
        "\n",
        "        output = model(batch, 0)\n",
        "        break"
      ],
      "metadata": {
        "id": "lldeB1NA6yDK"
      },
      "execution_count": 25,
      "outputs": []
    },
    {
      "cell_type": "code",
      "source": [
        "for d in train_iter:\n",
        "    print(d)\n",
        "    break"
      ],
      "metadata": {
        "colab": {
          "base_uri": "https://localhost:8080/"
        },
        "id": "s6edZozo2ZKC",
        "outputId": "43dd161f-8943-45ee-b334-1271e4f82ff8"
      },
      "execution_count": 26,
      "outputs": [
        {
          "output_type": "stream",
          "name": "stdout",
          "text": [
            "('Zwei junge weiße Männer sind im Freien in der Nähe vieler Büsche.', 'Two young, White males are outside near many bushes.')\n"
          ]
        }
      ]
    },
    {
      "cell_type": "code",
      "source": [
        "idx2word = vocab_transform[TARGET_LANGUAGE].get_itos()"
      ],
      "metadata": {
        "id": "ljknvRxN61LS"
      },
      "execution_count": 27,
      "outputs": []
    },
    {
      "cell_type": "code",
      "source": [
        "def reverse(index):\n",
        "    string = []\n",
        "    for idx in index:\n",
        "        if idx > 3:\n",
        "            string.append(idx2word[idx])\n",
        "    return \" \".join(string)"
      ],
      "metadata": {
        "id": "qCGakYeV6305"
      },
      "execution_count": 28,
      "outputs": []
    },
    {
      "cell_type": "code",
      "source": [
        "ground_truths = []\n",
        "for i in range(64):\n",
        "    gt = batch[\"target\"][:, i]\n",
        "    ground_truths.append(reverse(gt.detach().cpu().numpy()))"
      ],
      "metadata": {
        "id": "4Grl_TXD641Q"
      },
      "execution_count": 29,
      "outputs": []
    },
    {
      "cell_type": "code",
      "source": [
        "predictions = []\n",
        "for i in range(64):\n",
        "    test_output = output[:, i].argmax(-1)\n",
        "    predictions.append(reverse(test_output.detach().cpu().numpy()))\n"
      ],
      "metadata": {
        "id": "2k4Y5idq651Q"
      },
      "execution_count": 30,
      "outputs": []
    },
    {
      "cell_type": "code",
      "source": [
        "for ground_truth, prediction in zip(ground_truths, predictions):\n",
        "    print(ground_truth)\n",
        "    print(prediction)\n",
        "    print()"
      ],
      "metadata": {
        "colab": {
          "base_uri": "https://localhost:8080/"
        },
        "id": "Frsd8uZT663B",
        "outputId": "a2da9667-5e86-41c3-d3c5-f2a2de5d9d22"
      },
      "execution_count": 31,
      "outputs": [
        {
          "output_type": "stream",
          "name": "stdout",
          "text": [
            "A man in light colored clothing photographs a group of men wearing dark suits and hats standing around a woman dressed in a gown .\n",
            "A young man in a a group of a young dark - skinned man in a woman in a woman dress and a woman in a dress and dress dress\n",
            "\n",
            "A boy in a red uniform is attempting to avoid getting out at home plate , while the catcher in the blue uniform is attempting to catch him .\n",
            "A boy in a red uniform tries to to to to to the the base in the blue tries to catch him to him . him tries to catch him\n",
            "\n",
            "A woman in jeans walks by a bus with an ad depicting a woman peering over her sunglasses .\n",
            "A woman in jeans is walking in front of a bus , a woman is looking at her her her her her her her her her her her shoulder .\n",
            "\n",
            "A father - figure and two children outside their home doing yard work such as using a hoe on the grass and planting a tree .\n",
            "A female and two children are their their their their to their and a a and a tree . . . .\n",
            "\n",
            "Men playing volleyball , with one player missing the ball but hands still in the air .\n",
            "Men are playing volleyball game , one man is not the the the air placed in the air . in the air . . .\n",
            "\n",
            "A woman in a gray sweater and black baseball cap is standing in line at a shop .\n",
            "A woman in a and a a and a black baseball cap is standing in a store store in the store . . .\n",
            "\n",
            "An employee is handing a woman a bag while she is browsing through fish on ice at a street market .\n",
            "A woman woman a woman at a a , while she , and on . . . . .\n",
            "\n",
            "Three people sit at a picnic table outside of a building painted like a union jack .\n",
            "Three people sit at a picnic table in front of a building that has varying varying varying varying varying varying varying varying varying varying varying varying .\n",
            "\n",
            "A man in a pink shirt is sitting in the grass and a ball is in the air .\n",
            "A man in a pink shirt is sitting on the grass and a ball in midair . .\n",
            "\n",
            "One man holds another man 's head down and prepares to punch him in the face .\n",
            "A man is his head from another man and a him in his face . . .\n",
            "\n",
            "Man sitting using tool at a table in his home .\n",
            "A man sitting on a desk with a a on a a .\n",
            "\n",
            "A woman in a pink sweater and an apron , cleaning a table with a sponge .\n",
            "A woman in a pink sweater and a apron apron is a a a a a .\n",
            "\n",
            "A man in uniform and a man in a blue shirt are standing in front of a truck .\n",
            "A man in a uniform and a man in a blue shirt standing in front of a cart .\n",
            "\n",
            "A performs a flip while being towed at high speed .\n",
            "A doing a flip while while being towed by a horse . .\n",
            "\n",
            "A man sits on a bench holding his dog and looking at the water .\n",
            "A man sits on a bench while holding his dog and looking out of water . . . . .\n",
            "\n",
            "Five people wearing winter jackets and helmets stand in the snow , with in the background .\n",
            "Five people in winter uniforms and helmets helmets are standing in the snow with trees in the background .\n",
            "\n",
            "A shirtless man in shorts is fishing while standing on some rocks .\n",
            "A shirtless man no shorts stands standing on a some rocks and and . .\n",
            "\n",
            "A boy is playing checkers with an adult shown off - screen while a girl looks on .\n",
            "A boy plays with an adult adult to a a girl while a girl watches .\n",
            "\n",
            "Two men pretend to be while women look on .\n",
            "Two men are as they are as they look on . . . . . . .\n",
            "\n",
            "Group of Asian boys wait for meat to cook over barbecue .\n",
            "A group of young boys waiting to get to get to take a grill . .\n",
            "\n",
            "a building , a uniformed security guard looks at the camera from behind a fence .\n",
            "A building bears a a a a a a a a a a camera . .\n",
            "\n",
            "Two men wearing swim trunks jump in the air at a populated beach .\n",
            "Two men in bathing uniforms are jumping on a air on a beach . .\n",
            "\n",
            "A man in a vest is sitting in a chair and holding magazines .\n",
            "A man in a vest vest is sitting on a chair holding a . .\n",
            "\n",
            "A mother and her young song enjoying a beautiful day outside .\n",
            "Mother mom and her son enjoying enjoying a beautiful day day . beautiful day . day . day . day .\n",
            "\n",
            "A woman holding a bowl of food in a kitchen .\n",
            "A woman in a kitchen holding a food food .\n",
            "\n",
            "Women , wearing traditional clothing , are native life .\n",
            "Women dressed in formal dresses playing the the . . . .\n",
            "\n",
            "A kid swings with his feet up in the air in a forest .\n",
            "A boy swings in the air in the forest . forest . woods . forest .\n",
            "\n",
            "A man in jeans at the beach playing with a red ball .\n",
            "A man in jeans is playing a beach with a red ball .\n",
            "\n",
            "Two men wearing hats and using walking sticks are walking near a body of water during .\n",
            "Two men with hats and helmets are next to a body of sunset . sunset . sunset . sunset . sunset .\n",
            "\n",
            "A crowd of people out for some fun in public park .\n",
            "A group of people are in a public park . park . park . park . park . park . park . park\n",
            "\n",
            "A Boston Terrier is running on lush green grass in front of a white fence .\n",
            "A runs over the grass in front of a white fence .\n",
            "\n",
            "A girl in karate uniform breaking a stick with a front kick .\n",
            "A girl in a uniform uniform is a a a with a a . .\n",
            "\n",
            "2 blond girls are sitting on a ledge in a crowded plaza .\n",
            "2 girls girls are sitting on a a on a crowded square .\n",
            "\n",
            "A man in an orange hat starring at something .\n",
            "A man with an orange hat is something something .\n",
            "\n",
            "A girl in a jean dress is walking along a raised balance beam .\n",
            "A girl in a suit walks over a stone ladder . .\n",
            "\n",
            "A teenager plays her trumpet on the field at a game .\n",
            "A girl playing playing a game in a game .\n",
            "\n",
            "A woman does a somersault on a trampoline on the beach .\n",
            "A woman doing a flip on a beach on a beach beach . beach . beach . beach . beach . beach . beach\n",
            "\n",
            "A woman uses a drill while another man takes her picture .\n",
            "A woman uses a painting while while a man is taking something .\n",
            "\n",
            "People walking down sidewalk next to a line of stores .\n",
            "People are walking down a sidewalk next to a line of stairs . .\n",
            "\n",
            "A blond holding hands with a guy in the sand .\n",
            "A woman is holding a man in the sand .\n",
            "\n",
            "The person in the striped shirt is mountain climbing .\n",
            "The person in the striped shirt climbing climbing a mountain .\n",
            "\n",
            "A man is standing by a group of video games in a bar .\n",
            "A man is standing at a at a a restaurant .\n",
            "\n",
            "3 boys are standing on a pier in their bathing suits .\n",
            "3 boys are standing on a sandy beach . .\n",
            "\n",
            "A man in a red shirt entering an establishment .\n",
            "A man in a red shirt is a a a . .\n",
            "\n",
            "The man in the yellow pants is raising his arms .\n",
            "The man in the yellow pants raises his arms raised . .\n",
            "\n",
            "A group of people standing in front of an igloo .\n",
            "A group of people stand in front of a campfire .\n",
            "\n",
            "A girl wearing a life vest floats in water .\n",
            "A girl in a life jacket is in the water . water . water .\n",
            "\n",
            "A toddler is cooking with another person .\n",
            "A small child is learning with another person .\n",
            "\n",
            "A man on a tag line going into the water .\n",
            "A man on a boat in the water .\n",
            "\n",
            "People standing outside of a building .\n",
            "People are outside in front of a building . building . building . building . building . building . building . building .\n",
            "\n",
            "Six people ride mountain bikes through a jungle environment .\n",
            "Six people are riding through a course . .\n",
            "\n",
            "A pretty woman plays a .\n",
            "A woman woman is playing a a . .\n",
            "\n",
            "The young lady is looking at the pizza .\n",
            "The young lady is looking at the counter . .\n",
            "\n",
            "A man cooking food on the stove .\n",
            "A man preparing preparing food at the kitchen . .\n",
            "\n",
            "A cheerleading team doing a routine on chairs .\n",
            "A performance performing a curve on a chairs .\n",
            "\n",
            "People are fixing the roof of a house .\n",
            "People are the the roof of a house .\n",
            "\n",
            "A guy works on a building .\n",
            "A guy working on a building . building . building . building . building .\n",
            "\n",
            "Three people sit in a cave .\n",
            "Three people are sitting in a hammock .\n",
            "\n",
            "A man cutting branches of trees .\n",
            "A man is cutting off of trees .\n",
            "\n",
            "A large group of people fill a street .\n",
            "A large crowd of people are a a street .\n",
            "\n",
            "Two men wearing black in a city\n",
            "Two men in black city in a city .\n",
            "\n",
            "A child is splashing in the water\n",
            "A child splashes in water water . water . water . water . water . water . water . water . water\n",
            "\n",
            "People sit inside a train .\n",
            "People are sitting on a train .\n",
            "\n",
            "A car parked at the beach .\n",
            "A beach car on the beach .\n",
            "\n"
          ]
        }
      ]
    },
    {
      "cell_type": "markdown",
      "source": [
        "## Inference\n",
        "\n",
        "Now we can use our trained model to generate translations.\n",
        "\n",
        "**Note:** these translations will be poor compared to examples shown in paper as they use hidden dimension sizes of 1000 and train for 4 days! They have been cherry picked in order to show off what attention should look like on a sufficiently sized model.\n",
        "\n",
        "Our `translate_sentence` will do the following:\n",
        "- ensure our model is in evaluation mode, which it should always be for inference\n",
        "- tokenize the source sentence if it has not been tokenized (is a string)\n",
        "- numericalize the source sentence\n",
        "- convert it to a tensor and add a batch dimension\n",
        "- get the length of the source sentence and convert to a tensor\n",
        "- feed the source sentence into the encoder\n",
        "- create the mask for the source sentence\n",
        "- create a list to hold the output sentence, initialized with an `<sos>` token\n",
        "- create a tensor to hold the attention values\n",
        "- while we have not hit a maximum length\n",
        "  - get the input tensor, which should be either `<sos>` or the last predicted token\n",
        "  - feed the input, all encoder outputs, hidden state and mask into the decoder\n",
        "  - store attention values\n",
        "  - get the predicted next token\n",
        "  - add prediction to current output sentence prediction\n",
        "  - break if the prediction was an `<eos>` token\n",
        "- convert the output sentence from indexes to tokens\n",
        "- return the output sentence (with the `<sos>` token removed) and the attention values over the sequence"
      ],
      "metadata": {
        "id": "KbxcXKAG1eFx"
      }
    },
    {
      "cell_type": "code",
      "source": [
        "def translate_sentence(source, target, model, device, max_len: int = 50):\n",
        "    model.eval().to(device)\n",
        "\n",
        "    source = text_transform[SOURCE_LANGUAGE](source.rstrip(\"\\n\"))\n",
        "    input = source\n",
        "    target = text_transform[TARGET_LANGUAGE](target.rstrip(\"\\n\"))\n",
        "\n",
        "    source = source.unsqueeze(1).to(device)\n",
        "\n",
        "    with torch.no_grad():\n",
        "        encoder_output, hidden = model.encoder(\n",
        "            source, torch.tensor([source.size(0)])\n",
        "        )\n",
        "\n",
        "    mask = model.create_mask(source)\n",
        "\n",
        "    attentions = torch.zeros(max_len, 1, source.size(0)).to(device)\n",
        "\n",
        "    preds = torch.tensor([BOS_IDX]).unsqueeze(0)\n",
        "\n",
        "    for i in range(max_len):\n",
        "        target_tensor = preds[0][-1].to(device).unsqueeze(0)\n",
        "        with torch.no_grad():\n",
        "            output, hidden, attention = model.decoder(\n",
        "                target_tensor, hidden, encoder_output, mask\n",
        "            )\n",
        "\n",
        "        attentions[i] = attention\n",
        "        \n",
        "        pred_token = output.argmax(1).unsqueeze(0).detach().to(\"cpu\")\n",
        "        preds = torch.cat((preds, pred_token), dim=1)\n",
        "\n",
        "        if pred_token == EOS_IDX:\n",
        "            break\n",
        "\n",
        "    return list(input), list(preds.squeeze(0)), list(target), attentions[:len(preds.squeeze(0)) - 1]"
      ],
      "metadata": {
        "id": "lSAj-59h68CQ"
      },
      "execution_count": 66,
      "outputs": []
    },
    {
      "cell_type": "markdown",
      "source": [
        "Just functions to reverse indexes into words and iterative loop to get some samples to visualize model's attentions."
      ],
      "metadata": {
        "id": "QJJ9C4WvFVcc"
      }
    },
    {
      "cell_type": "code",
      "source": [
        "idx2de = vocab_transform[SOURCE_LANGUAGE].get_itos()\n",
        "idx2en = vocab_transform[TARGET_LANGUAGE].get_itos()"
      ],
      "metadata": {
        "id": "ruru93YdSe-O"
      },
      "execution_count": 67,
      "outputs": []
    },
    {
      "cell_type": "code",
      "source": [
        "def index2DEword(index):\n",
        "    string = []\n",
        "    for idx in index:\n",
        "        if idx > 3:\n",
        "            string.append(idx2de[idx])\n",
        "    return \" \".join(string)\n",
        "\n",
        "def index2ENword(index):\n",
        "    string = []\n",
        "    for idx in index:\n",
        "        if idx > 3:\n",
        "            string.append(idx2en[idx])\n",
        "    return \" \".join(string)"
      ],
      "metadata": {
        "id": "YGOFrDBeIIQp"
      },
      "execution_count": 185,
      "outputs": []
    },
    {
      "cell_type": "markdown",
      "source": [
        "Now, we'll grab some translations from our dataset and see how well our model did. Note, we're going to cherry pick examples (not really chery picked, but still the model show some understanding) here so it gives us something interesting to look at, but feel free to change the `index` value to look at different examples.\n",
        "\n",
        "First, we'll get a source and target from our dataset.\n",
        "\n",
        "In this case, we just take first 20 senteces from trainig dataset."
      ],
      "metadata": {
        "id": "H-QW3FGwFv5E"
      }
    },
    {
      "cell_type": "code",
      "source": [
        "train_sentences = []\n",
        "for i, s in enumerate(train_iter):\n",
        "    train_sentences.append(s)\n",
        "    if i == 20:\n",
        "        break"
      ],
      "metadata": {
        "id": "PBHlQiahobAi"
      },
      "execution_count": 187,
      "outputs": []
    },
    {
      "cell_type": "markdown",
      "source": [
        "Then we'll use our `translate_sentence` function to get our predicted translation and attention. We show this graphically by having the source sentence on the x-axis and the predicted translation on the y-axis. The lighter the square at the intersection between two words, the more attention the model gave to that source word when translating that target word.\n",
        "\n",
        "Below is an example the model attempted to translate, it gets the translation correct except changes *are fighting* to just *fighting*."
      ],
      "metadata": {
        "id": "qajQzF7NGNdd"
      }
    },
    {
      "cell_type": "code",
      "source": [
        "index = 15\n",
        "source, translate, target, attn = translate_sentence(\n",
        "    train_sentences[index][0], train_sentences[index][1], model, DEVICE, 50)"
      ],
      "metadata": {
        "id": "Xz84O4MtJCSy"
      },
      "execution_count": 188,
      "outputs": []
    },
    {
      "cell_type": "markdown",
      "source": [
        "Next, we'll make a function that displays the model's attention over the source sentence for each target token generated."
      ],
      "metadata": {
        "id": "9_aiNaDiFT3b"
      }
    },
    {
      "cell_type": "code",
      "source": [
        "def display_attention(sentence, translation, attention):\n",
        "    \n",
        "    fig = plt.figure(figsize=(10,10))\n",
        "    ax = fig.add_subplot(111)\n",
        "    \n",
        "    attention = attention.squeeze(1).cpu().detach().numpy()\n",
        "    \n",
        "    cax = ax.matshow(attention, cmap='bone')\n",
        "   \n",
        "    ax.tick_params(labelsize=15)\n",
        "    \n",
        "    x_ticks = [''] + ['<sos>'] + [t.lower() for t in sentence] + ['<eos>']\n",
        "    y_ticks = [''] + translation + ['<eos>']\n",
        "     \n",
        "    ax.set_xticklabels(x_ticks, rotation=45)\n",
        "    ax.set_yticklabels(y_ticks)\n",
        "\n",
        "    ax.xaxis.set_major_locator(ticker.MultipleLocator(1))\n",
        "    ax.yaxis.set_major_locator(ticker.MultipleLocator(1))\n",
        "\n",
        "    plt.show()\n",
        "    plt.close()"
      ],
      "metadata": {
        "id": "178M8SkUGlwq"
      },
      "execution_count": 189,
      "outputs": []
    },
    {
      "cell_type": "code",
      "source": [
        "display_attention(\n",
        "    token_transform[SOURCE_LANGUAGE](index2DEword(source)),\n",
        "    token_transform[TARGET_LANGUAGE](index2ENword(translate)),\n",
        "    attn\n",
        ")"
      ],
      "metadata": {
        "colab": {
          "base_uri": "https://localhost:8080/",
          "height": 662
        },
        "id": "X-T1qwNvo_hQ",
        "outputId": "feae1b48-6189-4f70-e90b-442b5570cf98"
      },
      "execution_count": 190,
      "outputs": [
        {
          "output_type": "display_data",
          "data": {
            "text/plain": [
              "<Figure size 720x720 with 1 Axes>"
            ],
            "image/png": "[encoded data removed]"
          },
          "metadata": {
            "needs_background": "light"
          }
        }
      ]
    },
    {
      "cell_type": "markdown",
      "source": [
        "Translations from the training set could simply be memorized by the model. So it's only fair we look at translations from the validation and testing set too.\n",
        "\n",
        "Starting with the test set, let's get an example."
      ],
      "metadata": {
        "id": "ORNstxTZGUEA"
      }
    },
    {
      "cell_type": "code",
      "source": [
        "test_sentences = []\n",
        "for i, sent in enumerate(test_iter):\n",
        "    test_sentences.append(sent)\n",
        "    if i == 20:\n",
        "        break"
      ],
      "metadata": {
        "id": "rADIp3KdPwXz",
        "colab": {
          "base_uri": "https://localhost:8080/"
        },
        "outputId": "ac09025e-d15c-4697-bc00-0dc20512121e"
      },
      "execution_count": 84,
      "outputs": [
        {
          "output_type": "stream",
          "name": "stderr",
          "text": [
            "/usr/local/lib/python3.7/dist-packages/torch/utils/data/datapipes/iter/combining.py:249: UserWarning: Some child DataPipes are not exhausted when __iter__ is called. We are resetting the buffer and each child DataPipe will read from the start again.\n",
            "  \"the buffer and each child DataPipe will read from the start again.\", UserWarning)\n"
          ]
        }
      ]
    },
    {
      "cell_type": "code",
      "source": [
        "index = 15\n",
        "source, translate, target, attn = translate_sentence(\n",
        "    test_sentences[index][0], test_sentences[index][1], model, DEVICE, 50)\n",
        "\n",
        "print(f\"Source: {index2DEword(source)}\")\n",
        "print(f\"Translation: {index2ENword(translate)}\")\n",
        "print(f\"Target: {index2ENword(target)}\")"
      ],
      "metadata": {
        "colab": {
          "base_uri": "https://localhost:8080/"
        },
        "id": "70F4wctVtxVS",
        "outputId": "c98571b8-2412-43d3-fe9b-7b51ffc4b5f6"
      },
      "execution_count": 85,
      "outputs": [
        {
          "output_type": "stream",
          "name": "stdout",
          "text": [
            "Source: Ein Mädchen in einem läuft über einen erhöhten Schwebebalken .\n",
            "Translation: A girl in a suit walks over a stone ladder .\n",
            "Target: A girl in a jean dress is walking along a raised balance beam .\n"
          ]
        }
      ]
    },
    {
      "cell_type": "code",
      "source": [
        "display_attention(\n",
        "    token_transform[SOURCE_LANGUAGE](index2DEword(source)),\n",
        "    token_transform[TARGET_LANGUAGE](index2ENword(translate)),\n",
        "    attn\n",
        ")"
      ],
      "metadata": {
        "id": "TTi27xFSu_4r",
        "colab": {
          "base_uri": "https://localhost:8080/",
          "height": 678
        },
        "outputId": "d9c135c7-9aaf-441b-c3ae-47027485feb3"
      },
      "execution_count": 86,
      "outputs": [
        {
          "output_type": "display_data",
          "data": {
            "text/plain": [
              "<Figure size 720x720 with 1 Axes>"
            ],
            "image/png": "[encoded data removed]"
          },
          "metadata": {
            "needs_background": "light"
          }
        }
      ]
    },
    {
      "cell_type": "code",
      "source": [
        "index = 10\n",
        "source, translate, target, attn = translate_sentence(\n",
        "    test_sentences[index][0], test_sentences[index][1], model, DEVICE, 50)\n",
        "\n",
        "print(f\"Source: {index2DEword(source)}\")\n",
        "print(f\"Translation: {index2ENword(translate)}\")\n",
        "print(f\"Target: {index2ENword(target)}\")"
      ],
      "metadata": {
        "colab": {
          "base_uri": "https://localhost:8080/"
        },
        "id": "s9tIssNGGgoW",
        "outputId": "c2e6f6d0-eb9f-4de5-dda6-e75611f14a88"
      },
      "execution_count": 87,
      "outputs": [
        {
          "output_type": "stream",
          "name": "stdout",
          "text": [
            "Source: Eine Mutter und ihr kleiner Sohn genießen einen schönen Tag im Freien .\n",
            "Translation: Mother mom and her son enjoying enjoying a beautiful day day .\n",
            "Target: A mother and her young song enjoying a beautiful day outside .\n"
          ]
        }
      ]
    },
    {
      "cell_type": "code",
      "source": [
        "display_attention(\n",
        "    token_transform[SOURCE_LANGUAGE](index2DEword(source)),\n",
        "    token_transform[TARGET_LANGUAGE](index2ENword(translate)),\n",
        "    attn\n",
        ")"
      ],
      "metadata": {
        "colab": {
          "base_uri": "https://localhost:8080/",
          "height": 585
        },
        "id": "AditYs8UG1Ge",
        "outputId": "e80bf65d-6146-4746-e76c-763b2f50d7ee"
      },
      "execution_count": 88,
      "outputs": [
        {
          "output_type": "display_data",
          "data": {
            "text/plain": [
              "<Figure size 720x720 with 1 Axes>"
            ],
            "image/png": "[encoded data removed]"
          },
          "metadata": {
            "needs_background": "light"
          }
        }
      ]
    },
    {
      "cell_type": "markdown",
      "source": [
        "## BLEU\n",
        "\n",
        "Previously we have only cared about the loss/perplexity of the model. However there metrics that are specifically designed for measuring the quality of a translation - the most popular is *BLEU*. Without going into too much detail, BLEU looks at the overlap in the predicted and actual target sequences in terms of their n-grams. It will give us a number between 0 and 1 for each sequence, where 1 means there is perfect overlap, i.e. a perfect translation, although is usually shown between 0 and 100. BLEU was designed for multiple candidate translations per source sequence, however in this dataset we only have one candidate per source.\n",
        "\n",
        "We define a `calculate_bleu` function which calculates the BLEU score over a provided TorchText dataset. This function creates a corpus of the actual and predicted translation for each source sentence and then calculates the BLEU score."
      ],
      "metadata": {
        "id": "q93gTQmHHHly"
      }
    },
    {
      "cell_type": "code",
      "source": [
        "def index2English(sent, target: bool = True):\n",
        "    string = []\n",
        "    for index in sent:\n",
        "        if index == PAD_IDX:\n",
        "            break\n",
        "        word = idx2en[index]\n",
        "        string.append(word)\n",
        "    if target:\n",
        "        return string\n",
        "    return string[:-1]"
      ],
      "metadata": {
        "id": "agQV3FaXHraC"
      },
      "execution_count": 139,
      "outputs": []
    },
    {
      "cell_type": "code",
      "source": [
        "from torchtext.data.metrics import bleu_score\n",
        "\n",
        "\n",
        "def calculate_blue(data, model, device):\n",
        "    predictions = []\n",
        "    targets = []\n",
        "\n",
        "    model.eval().to(device)\n",
        "    \n",
        "    for datum in data:\n",
        "        output = model(datum, 0)\n",
        "        for i in range(output.size(1)):\n",
        "            sent = output[:, i]\n",
        "            sent = sent.argmax(-1).detach().to(\"cpu\")\n",
        "            translate = index2English(sent)\n",
        "            predictions.append(translate)\n",
        "\n",
        "        for i in range(datum[\"target\"].size(1)):\n",
        "            target = datum[\"target\"][:, i]\n",
        "            sent = target.detach().to(\"cpu\")\n",
        "            translate = index2English(target)\n",
        "            targets.append([translate])\n",
        "\n",
        "    return bleu_score(predictions, targets)"
      ],
      "metadata": {
        "id": "td3CEGCfG28W"
      },
      "execution_count": 179,
      "outputs": []
    },
    {
      "cell_type": "markdown",
      "source": [
        "We get a BLEU of around 15. If we compare it to the paper that the attention model is attempting to replicate, they achieve a BLEU score of 26.75. The original repo has achieved 28. Since the we have bigger model while the model was trained with only 10 epochs.\n",
        "\n",
        "This number isn't really interpretable, we can't really say much about it. The most useful part of a BLEU score is that it can be used to compare different models on the same dataset, where the one with the **higher** BLEU score is \"better\"."
      ],
      "metadata": {
        "id": "WrfsClvmPvzg"
      }
    },
    {
      "cell_type": "code",
      "source": [
        "bleu_score = calculate_blue(test_dataloader, model, DEVICE)\n",
        "\n",
        "print(f'BLEU score = {bleu_score*100:.2f}')"
      ],
      "metadata": {
        "colab": {
          "base_uri": "https://localhost:8080/"
        },
        "id": "aFP8bFL0J1nh",
        "outputId": "9fdb012f-20b3-48ae-9141-1f26b229058b"
      },
      "execution_count": 181,
      "outputs": [
        {
          "output_type": "stream",
          "name": "stdout",
          "text": [
            "BLEU score = 14.68\n"
          ]
        }
      ]
    },
    {
      "cell_type": "markdown",
      "source": [
        "In the next tutorials we will be moving away from using recurrent neural networks and start looking at other ways to construct sequence-to-sequence models. Specifically, in the next tutorial we will be using convolutional neural networks."
      ],
      "metadata": {
        "id": "53BkRZeoQKh9"
      }
    },
    {
      "cell_type": "code",
      "source": [],
      "metadata": {
        "id": "IudXvmd-QK2J"
      },
      "execution_count": null,
      "outputs": []
    }
  ]
}