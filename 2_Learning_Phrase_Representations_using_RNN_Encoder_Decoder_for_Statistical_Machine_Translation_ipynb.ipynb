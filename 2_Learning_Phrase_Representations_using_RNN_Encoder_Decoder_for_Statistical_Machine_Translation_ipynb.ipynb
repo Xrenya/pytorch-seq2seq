{
  "nbformat": 4,
  "nbformat_minor": 0,
  "metadata": {
    "colab": {
      "provenance": [],
      "collapsed_sections": []
    },
    "kernelspec": {
      "name": "python3",
      "display_name": "Python 3"
    },
    "language_info": {
      "name": "python"
    },
    "accelerator": "GPU",
    "gpuClass": "standard"
  },
  "cells": [
    {
      "cell_type": "markdown",
      "source": [
        "# 2 - Learning Phrase Representations using RNN Encoder-Decoder for Statistical Machine Translation\n",
        "\n",
        "In this second notebook on sequence-to-sequence models using PyTorch and TorchText, we'll be implementing the model from [Learning Phrase Representations using RNN Encoder-Decoder for Statistical Machine Translation](https://arxiv.org/abs/1406.1078). This model will achieve improved test perplexity whilst only using a single layer RNN in both the encoder and the decoder.\n",
        "\n",
        "## Introduction\n",
        "\n",
        "Let's remind ourselves of the general encoder-decoder model.\n",
        "\n",
        "![](assets/seq2seq1.png)\n",
        "\n",
        "We use our encoder (green) over the embedded source sequence (yellow) to create a context vector (red). We then use that context vector with the decoder (blue) and a linear layer (purple) to generate the target sentence.\n",
        "\n",
        "In the previous model, we used an multi-layered LSTM as the encoder and decoder.\n",
        "\n",
        "![](assets/seq2seq4.png)\n",
        "\n",
        "One downside of the previous model is that the decoder is trying to cram lots of information into the hidden states. Whilst decoding, the hidden state will need to contain information about the whole of the source sequence, as well as all of the tokens have been decoded so far. By alleviating some of this information compression, we can create a better model!\n",
        "\n",
        "We'll also be using a GRU (Gated Recurrent Unit) instead of an LSTM (Long Short-Term Memory). Why? Mainly because that's what they did in the paper (this paper also introduced GRUs) and also because we used LSTMs last time. To understand how GRUs (and LSTMs) differ from standard RNNS, check out [this](https://colah.github.io/posts/2015-08-Understanding-LSTMs/) link. Is a GRU better than an LSTM? [Research](https://arxiv.org/abs/1412.3555) has shown they're pretty much the same, and both are better than standard RNNs. \n",
        "\n",
        "## Install required libraries\n",
        "\n",
        "We'll be coding up the models in PyTorch and using torchtext to help us do all of the pre-processing required. We'll also be using spaCy to assist in the tokenization of the data. Install spaCy tokenizers for English and German. "
      ],
      "metadata": {
        "id": "P_57wq0jHb8v"
      }
    },
    {
      "cell_type": "code",
      "execution_count": null,
      "metadata": {
        "id": "pBIc_r_eFbzr"
      },
      "outputs": [],
      "source": [
        "!pip install -U torchdata\n",
        "!pip install -U spacy\n",
        "!python -m spacy download en_core_web_sm\n",
        "!python -m spacy download de_core_news_sm\n",
        "!wget \"http://www.quest.dcs.shef.ac.uk/wmt16_files_mmt/training.tar.gz\"\n",
        "!wget \"http://www.quest.dcs.shef.ac.uk/wmt16_files_mmt/validation.tar.gz\"\n",
        "!wget \"http://www.quest.dcs.shef.ac.uk/wmt16_files_mmt/mmt16_task1_test.tar.gz\""
      ]
    },
    {
      "cell_type": "markdown",
      "source": [
        "## Imports\n",
        "\n",
        "Import evertyhing we need to train the model."
      ],
      "metadata": {
        "id": "9Dy9dQGGKBi1"
      }
    },
    {
      "cell_type": "code",
      "source": [
        "from typing import List, Iterable\n",
        "\n",
        "import torch\n",
        "import torch.nn as nn\n",
        "import torch.optim as optim\n",
        "from torch.utils.data import DataLoader\n",
        "from torch.nn.utils.rnn import pad_sequence\n",
        "\n",
        "from torchtext.data.utils import get_tokenizer\n",
        "from torchtext.vocab import build_vocab_from_iterator\n",
        "from torchtext.datasets import multi30k, Multi30k\n",
        "\n",
        "import spacy\n",
        "import numpy as np\n",
        "\n",
        "import random\n",
        "import math\n",
        "import time"
      ],
      "metadata": {
        "id": "3SK9Ux78J-e-"
      },
      "execution_count": 2,
      "outputs": []
    },
    {
      "cell_type": "markdown",
      "source": [
        "We'll set the random seeds for deterministic results."
      ],
      "metadata": {
        "id": "4nY0Gd7wKFj1"
      }
    },
    {
      "cell_type": "code",
      "source": [
        "SEED: int = 1234\n",
        "\n",
        "def random_seed(seed: int):\n",
        "    random.seed(seed)\n",
        "    np.random.seed(seed)\n",
        "    torch.manual_seed(seed)\n",
        "    torch.cuda.manual_seed(seed)\n",
        "    torch.backends.cudnn.determenistic = True\n",
        "\n",
        "random_seed(SEED)"
      ],
      "metadata": {
        "id": "DE0c9PnxKGfk"
      },
      "execution_count": 3,
      "outputs": []
    },
    {
      "cell_type": "markdown",
      "source": [
        "The dataset we'll be using is the [Multi30k dataset](https://github.com/multi30k/dataset). This is a dataset with ~30,000 parallel English, German and French sentences, each with ~12 words per sentence. Currently, the URL for multi30k is broken so we have to replace with temporary links to download dataset. \n",
        "\n",
        "Next, we'll create the tokenizers. A tokenizer is used to turn a string containing a sentence into a list of individual tokens that make up that string, e.g. \"good morning!\" becomes [\"good\", \"morning\", \"!\"]. We'll start talking about the sentences being a sequence of tokens from now, instead of saying they're a sequence of words. What's the difference? Well, \"good\" and \"morning\" are both words and tokens, but \"!\" is a token, not a word. \n",
        "\n",
        "```\n",
        "tokenizer_de = get_tokenizer(\"spacy\", language=\"de_core_news_sm\")\n",
        "tokenizer_en = get_tokenizer(\"spacy\", language=\"en_core_web_sm\")\n",
        "```\n",
        "spaCy has model for each language (\"de_core_news_sm\" for German and \"en_core_web_sm\" for English) which need to be loaded so we can access the tokenizer of each model. "
      ],
      "metadata": {
        "id": "Ea4xWv1KGPvy"
      }
    },
    {
      "cell_type": "code",
      "source": [
        "SOURCE_LANGUAGE = 'de'\n",
        "TARGET_LANGUAGE = 'en'\n",
        "\n",
        "token_transform = {}\n",
        "vocab_transform = {}\n",
        "\n",
        "token_transform[SOURCE_LANGUAGE] = get_tokenizer(\"spacy\", language=\"de_core_news_sm\")\n",
        "token_transform[TARGET_LANGUAGE] = get_tokenizer(\"spacy\", language=\"en_core_web_sm\")\n",
        "\n",
        "\n",
        "def yield_tokens(data_iter: Iterable, language: str):\n",
        "    language_index = {SOURCE_LANGUAGE: 0, TARGET_LANGUAGE: 1}\n",
        "    for data_sample in data_iter:\n",
        "        yield token_transform[language](data_sample[language_index[language]])"
      ],
      "metadata": {
        "id": "QoIA79rXKIk9"
      },
      "execution_count": 4,
      "outputs": []
    },
    {
      "cell_type": "markdown",
      "source": [
        "Next, we'll build the *vocabulary* for the source and target languages. The vocabulary is used to associate each unique token with an index (an integer). The vocabularies of the source and target languages are distinct.\n",
        "\n",
        "`torchtext`'s `build_vocab_from_iterator` would handle create of vocabulary for us. We have to set a yield fucntion for data processing where we will tokenize sentences. Add special tokens with their correspoding indexes with in the vocabulary.Using the `min_freq` argument, we only allow tokens that appear at least 2 times to appear in our vocabulary. Tokens that appear only once are converted into an `<unk>` (unknown) token. Special tokens: `<unk>` - unknown token which is not in the vocabulary, `<pad>` - padding token to make senteces equal lenght for dataloader, `<bos>` - begining of the sentence, `<eos>` - end of the sentence.   \n",
        "\n",
        "It is important to note that our vocabulary should only be built from the training set and not the validation/test set. This prevents \"information leakage\" into our model, giving us artifically inflated validation/test scores."
      ],
      "metadata": {
        "id": "jxO0iypWGSsA"
      }
    },
    {
      "cell_type": "code",
      "source": [
        "UNK_IDX, PAD_IDX, BOS_IDX, EOS_IDX = 0, 1, 2, 3\n",
        "special_symbols = ['<unk>', '<pad>', '<bos>', '<eos>']"
      ],
      "metadata": {
        "id": "3BU_5M6eTNdG"
      },
      "execution_count": 5,
      "outputs": []
    },
    {
      "cell_type": "code",
      "source": [
        "for language in [SOURCE_LANGUAGE, TARGET_LANGUAGE]:\n",
        "    train_iter = Multi30k(root=\"/content\", split=\"train\", language_pair=(SOURCE_LANGUAGE, TARGET_LANGUAGE))\n",
        "    vocab_transform[language] = build_vocab_from_iterator(\n",
        "        yield_tokens(train_iter, language),\n",
        "        min_freq=2,\n",
        "        specials=special_symbols,\n",
        "        special_first=True\n",
        "    )\n",
        "\n",
        "for language in [SOURCE_LANGUAGE, TARGET_LANGUAGE]:\n",
        "    vocab_transform[language].set_default_index(UNK_IDX)"
      ],
      "metadata": {
        "id": "Gb1deX2GKarQ"
      },
      "execution_count": 6,
      "outputs": []
    },
    {
      "cell_type": "markdown",
      "source": [
        "We also need to define a `torch.device`. This is used to tell torchText to put the tensors on the GPU or not. We use the `torch.cuda.is_available()` function, which will return `True` if a GPU is detected on our computer. We pass this `device` to the iterator.\n"
      ],
      "metadata": {
        "id": "kfl0_PMYGVCv"
      }
    },
    {
      "cell_type": "code",
      "source": [
        "DEVICE = torch.device('cuda:0' if torch.cuda.is_available() else 'cpu')"
      ],
      "metadata": {
        "id": "sAhHHZyIKepQ"
      },
      "execution_count": 7,
      "outputs": []
    },
    {
      "cell_type": "markdown",
      "source": [
        "Unlike previous version, `torchtext Field` did for us  tokenization and added special symbols, with current version of `torchtext>=0.12.0` you have to make a pipeline for text processing. `text_transform` is dictionary containg all necessary tranformation for source and target languages. Firsly, we tokenize sentences. Secondly, transform it into vocavulary indexes and add special symbol `<bos>` and `<eos>` for indication of start of senteces and ends. Finaly, transform it into `torch.Tensor`."
      ],
      "metadata": {
        "id": "St6soRSbGVjn"
      }
    },
    {
      "cell_type": "code",
      "source": [
        "def sequential_transforms(*transforms):\n",
        "    def func(text_input: str):\n",
        "        for transform in transforms:\n",
        "            text_input = transform(text_input)\n",
        "        return text_input\n",
        "    return func\n",
        "\n",
        "def to_tensor(token_ids: List[int]):\n",
        "    return torch.cat((\n",
        "        torch.tensor([BOS_IDX]),\n",
        "        torch.tensor(token_ids),\n",
        "        torch.tensor([EOS_IDX]),\n",
        "    ))\n",
        "\n",
        "text_transform = {}\n",
        "\n",
        "for language in [SOURCE_LANGUAGE, TARGET_LANGUAGE]:\n",
        "    text_transform[language] = sequential_transforms(\n",
        "        token_transform[language],  # Tokenization\n",
        "        vocab_transform[language],  # Numericalization\n",
        "        to_tensor  # Add BOS/EOS and create tensor\n",
        "    )\n",
        "\n",
        "def collate_fn(batch):\n",
        "    source_batch, target_batch = [], []\n",
        "    for source_sample, target_sample in batch:\n",
        "        source_batch.append(text_transform[SOURCE_LANGUAGE](source_sample.rstrip(\"\\n\")))\n",
        "        target_batch.append(text_transform[TARGET_LANGUAGE](target_sample.rstrip(\"\\n\")))\n",
        "\n",
        "    source_batch = pad_sequence(source_batch, batch_first=False, padding_value=PAD_IDX)\n",
        "    target_batch = pad_sequence(target_batch, batch_first=False, padding_value=PAD_IDX)\n",
        "    return {\n",
        "        \"input\": source_batch,\n",
        "        \"target\": target_batch,\n",
        "    }"
      ],
      "metadata": {
        "id": "Hl8Sg8Y1KruM"
      },
      "execution_count": 8,
      "outputs": []
    },
    {
      "cell_type": "markdown",
      "source": [
        "Select a batch size for our dataloaders and make `collate_fn` function to pad our sequences. When we get a batch of examples using an iterator we need to make sure that all of the source sentences are padded to the same length, the same with the target sentences. Luckily, torchText iterators handle this for us! We use a `pad_sequence` to creates batches.\n"
      ],
      "metadata": {
        "id": "vq68hvQRGfLb"
      }
    },
    {
      "cell_type": "code",
      "source": [
        "BATCH_SIZE = 64\n",
        "\n",
        "train_iter = Multi30k(root=\"/content\", split='train', language_pair=(SOURCE_LANGUAGE, TARGET_LANGUAGE))\n",
        "train_dataloader = DataLoader(train_iter, batch_size=BATCH_SIZE, collate_fn=collate_fn)\n",
        "\n",
        "valid_iter = Multi30k(root=\"/content\", split='valid', language_pair=(SOURCE_LANGUAGE, TARGET_LANGUAGE))\n",
        "valid_dataloader = DataLoader(valid_iter, batch_size=BATCH_SIZE, collate_fn=collate_fn)"
      ],
      "metadata": {
        "id": "pDlNqe7VKrwa"
      },
      "execution_count": 9,
      "outputs": []
    },
    {
      "cell_type": "markdown",
      "source": [
        "## Building the Seq2Seq Model\n",
        "\n",
        "### Encoder\n",
        "\n",
        "The encoder is similar to the previous one, with the multi-layer LSTM swapped for a single-layer GRU. We also don't pass the dropout as an argument to the GRU as that dropout is used between each layer of a multi-layered RNN. As we only have a single layer, PyTorch will display a warning if we try and use pass a dropout value to it.\n",
        "\n",
        "Another thing to note about the GRU is that it only requires and returns a hidden state, there is no cell state like in the LSTM.\n",
        "\n",
        "$$\\begin{align*}\n",
        "h_t &= \\text{GRU}(e(x_t), h_{t-1})\\\\\n",
        "(h_t, c_t) &= \\text{LSTM}(e(x_t), h_{t-1}, c_{t-1})\\\\\n",
        "h_t &= \\text{RNN}(e(x_t), h_{t-1})\n",
        "\\end{align*}$$\n",
        "\n",
        "From the equations above, it looks like the RNN and the GRU are identical. Inside the GRU, however, is a number of *gating mechanisms* that control the information flow in to and out of the hidden state (similar to an LSTM). Again, for more info, check out [this](https://colah.github.io/posts/2015-08-Understanding-LSTMs/) excellent post. \n",
        "\n",
        "The rest of the encoder should be very familar from the last tutorial, it takes in a sequence, $X = \\{x_1, x_2, ... , x_T\\}$, passes it through the embedding layer, recurrently calculates hidden states, $H = \\{h_1, h_2, ..., h_T\\}$, and returns a context vector (the final hidden state), $z=h_T$.\n",
        "\n",
        "$$h_t = \\text{EncoderGRU}(e(x_t), h_{t-1})$$\n",
        "\n",
        "This is identical to the encoder of the general seq2seq model, with all the \"magic\" happening inside the GRU (green).\n",
        "\n",
        "![](assets/seq2seq5.png)"
      ],
      "metadata": {
        "id": "WToHvUu3GmR3"
      }
    },
    {
      "cell_type": "code",
      "source": [
        "class Encoder(nn.Module):\n",
        "    def __init__(\n",
        "        self,\n",
        "        input_dim: int,\n",
        "        embed_dim: int,\n",
        "        hidden_dim: int,\n",
        "        dropout: float\n",
        "    ):\n",
        "        super(Encoder, self).__init__()\n",
        "        self.hidden_dim = hidden_dim\n",
        "        self.embedding = nn.Embedding(input_dim, embed_dim)\n",
        "        self.rnn = nn.GRU(embed_dim, hidden_dim)\n",
        "        self.dropout = nn.Dropout(p=dropout)\n",
        "\n",
        "    def forward(self, x):\n",
        "        embeddings = self.embedding(x)\n",
        "        \n",
        "        outputs, hidden = self.rnn(embeddings)\n",
        "\n",
        "        return hidden"
      ],
      "metadata": {
        "id": "tIiJLqP3YIyr"
      },
      "execution_count": 10,
      "outputs": []
    },
    {
      "cell_type": "markdown",
      "source": [
        "## Decoder\n",
        "\n",
        "The decoder is where the implementation differs significantly from the previous model and we alleviate some of the information compression.\n",
        "\n",
        "Instead of the GRU in the decoder taking just the embedded target token, $d(y_t)$ and the previous hidden state $s_{t-1}$ as inputs, it also takes the context vector $z$. \n",
        "\n",
        "$$s_t = \\text{DecoderGRU}(d(y_t), s_{t-1}, z)$$\n",
        "\n",
        "Note how this context vector, $z$, does not have a $t$ subscript, meaning we re-use the same context vector returned by the encoder for every time-step in the decoder. \n",
        "\n",
        "Before, we predicted the next token, $\\hat{y}_{t+1}$, with the linear layer, $f$, only using the top-layer decoder hidden state at that time-step, $s_t$, as $\\hat{y}_{t+1}=f(s_t^L)$. Now, we also pass the embedding of current token, $d(y_t)$ and the context vector, $z$ to the linear layer.\n",
        "\n",
        "$$\\hat{y}_{t+1} = f(d(y_t), s_t, z)$$\n",
        "\n",
        "Thus, our decoder now looks something like this:\n",
        "\n",
        "![](assets/seq2seq6.png)\n",
        "\n",
        "Note, the initial hidden state, $s_0$, is still the context vector, $z$, so when generating the first token we are actually inputting two identical context vectors into the GRU.\n",
        "\n",
        "How do these two changes reduce the information compression? Well, hypothetically the decoder hidden states, $s_t$, no longer need to contain information about the source sequence as it is always available as an input. Thus, it only needs to contain information about what tokens it has generated so far. The addition of $y_t$ to the linear layer also means this layer can directly see what the token is, without having to get this information from the hidden state. \n",
        "\n",
        "However, this hypothesis is just a hypothesis, it is impossible to determine how the model actually uses the information provided to it (don't listen to anyone that says differently). Nevertheless, it is a solid intuition and the results seem to indicate that this modifications are a good idea!\n",
        "\n",
        "Within the implementation, we will pass $d(y_t)$ and $z$ to the GRU by concatenating them together, so the input dimensions to the GRU are now `emb_dim + hid_dim` (as context vector will be of size `hid_dim`). The linear layer will take $d(y_t), s_t$ and $z$ also by concatenating them together, hence the input dimensions are now `emb_dim + hid_dim*2`. We also don't pass a value of dropout to the GRU as it only uses a single layer.\n",
        "\n",
        "`forward` now takes a `context` argument. Inside of `forward`, we concatenate $y_t$ and $z$ as `emb_con` before feeding to the GRU, and we concatenate $d(y_t)$, $s_t$ and $z$ together as `output` before feeding it through the linear layer to receive our predictions, $\\hat{y}_{t+1}$."
      ],
      "metadata": {
        "id": "rcp7UmOKGqTH"
      }
    },
    {
      "cell_type": "code",
      "source": [
        "class Decoder(nn.Module):\n",
        "    def __init__(\n",
        "        self,\n",
        "        output_dim: int,\n",
        "        embed_dim: int,\n",
        "        hidden_dim: int,\n",
        "        dropout: float\n",
        "    ):\n",
        "        super(Decoder, self).__init__()\n",
        "        self.hidden_dim = hidden_dim\n",
        "        self.output_dim = output_dim\n",
        "\n",
        "        self.embedding = nn.Embedding(output_dim, embed_dim)\n",
        "\n",
        "        self.rnn = nn.GRU(embed_dim + hidden_dim, hidden_dim)\n",
        "\n",
        "        self.fc = nn.Linear(embed_dim + hidden_dim * 2, output_dim)\n",
        "\n",
        "        self.dropout = nn.Dropout(p=dropout)\n",
        "\n",
        "    def forward(self, input, hidden, context):\n",
        "        \n",
        "        #input = [batch size]\n",
        "        #hidden = [n layers * n directions, batch size, hid dim]\n",
        "        #context = [n layers * n directions, batch size, hid dim]\n",
        "        \n",
        "        #n layers and n directions in the decoder will both always be 1, therefore:\n",
        "        #hidden = [1, batch size, hid dim]\n",
        "        #context = [1, batch size, hid dim]\n",
        "\n",
        "        input  = input.unsqueeze(0)\n",
        "        #input = [1, batch size]\n",
        "\n",
        "        embeddings = self.dropout(self.embedding(input))\n",
        "        #embedded = [1, batch size, emb dim]\n",
        "\n",
        "        emb_con = torch.cat((embeddings, context), dim=2)\n",
        "        #emb_con = [1, batch size, emb dim + hid dim]\n",
        "\n",
        "        output, hidden = self.rnn(emb_con, hidden)\n",
        "        \n",
        "        #output = [seq len, batch size, hid dim * n directions]\n",
        "        #hidden = [n layers * n directions, batch size, hid dim]\n",
        "        \n",
        "        #seq len, n layers and n directions will always be 1 in the decoder, therefore:\n",
        "        #output = [1, batch size, hid dim]\n",
        "        #hidden = [1, batch size, hid dim]\n",
        "\n",
        "        output = torch.cat(\n",
        "            (embeddings.squeeze(0), hidden.squeeze(0), context.squeeze(0)), dim=1\n",
        "        )\n",
        "\n",
        "        prediction = self.fc(output)\n",
        "\n",
        "        return prediction, hidden"
      ],
      "metadata": {
        "id": "ov2_m4umZ45x"
      },
      "execution_count": 11,
      "outputs": []
    },
    {
      "cell_type": "markdown",
      "source": [
        "## Seq2Seq Model\n",
        "\n",
        "Putting the encoder and decoder together, we get:\n",
        "\n",
        "![](assets/seq2seq7.png)\n",
        "\n",
        "Again, in this implementation we need to ensure the hidden dimensions in both the encoder and the decoder are the same.\n",
        "\n",
        "Briefly going over all of the steps:\n",
        "- the `outputs` tensor is created to hold all predictions, $\\hat{Y}$\n",
        "- the source sequence, $X$, is fed into the encoder to receive a `context` vector\n",
        "- the initial decoder hidden state is set to be the `context` vector, $s_0 = z = h_T$\n",
        "- we use a batch of `<sos>` tokens as the first `input`, $y_1$\n",
        "- we then decode within a loop:\n",
        "  - inserting the input token $y_t$, previous hidden state, $s_{t-1}$, and the context vector, $z$, into the decoder\n",
        "  - receiving a prediction, $\\hat{y}_{t+1}$, and a new hidden state, $s_t$\n",
        "  - we then decide if we are going to teacher force or not, setting the next input as appropriate (either the ground truth next token in the target sequence or the highest predicted next token)"
      ],
      "metadata": {
        "id": "x2DKknfzGuJU"
      }
    },
    {
      "cell_type": "code",
      "source": [
        "class Seq2Seq(nn.Module):\n",
        "    def __init__(self, encoder: Encoder, decoder: Decoder, device: str):\n",
        "        super(Seq2Seq, self).__init__()\n",
        "        self.encoder = encoder\n",
        "        self.decoder = decoder\n",
        "        self.device = device\n",
        "\n",
        "        assert encoder.hidden_dim == decoder.hidden_dim, (\n",
        "            \"Hidden dimensions of encoder and decoder must be equal!\"\n",
        "        )\n",
        "\n",
        "    def forward(self, data, teacher_forcing_ratio: float = 0.5):\n",
        "        #src = [src len, batch size]\n",
        "        #trg = [trg len, batch size]\n",
        "        #teacher_forcing_ratio is probability to use teacher forcing\n",
        "        #e.g. if teacher_forcing_ratio is 0.75 we use ground-truth inputs 75% of the time\n",
        "        for k, v in data.items():\n",
        "            data[k] = v.to(self.device)\n",
        "\n",
        "        batch_size = data[\"target\"].size(1)\n",
        "        target_len = data[\"target\"].size(0)\n",
        "        target_vocab_size = self.decoder.output_dim\n",
        "\n",
        "        #tensor to store decoder outputs\n",
        "        outputs = torch.zeros(target_len, batch_size, target_vocab_size).to(self.device)\n",
        "\n",
        "        #last hidden state of the encoder is the context\n",
        "        context = self.encoder(data[\"input\"])\n",
        "\n",
        "        #context also used as the initial hidden state of the decoder\n",
        "        hidden = context\n",
        "\n",
        "        input = data[\"target\"][0, :]\n",
        "\n",
        "        for t in range(1, target_len):\n",
        "\n",
        "            #insert input token embedding, previous hidden state and the context state\n",
        "            #receive output tensor (predictions) and new hidden state\n",
        "            output, hidden = self.decoder(input, hidden, context)\n",
        "\n",
        "            #place predictions in a tensor holding predictions for each token\n",
        "            outputs[t] = output\n",
        "\n",
        "            teacher_force = random.random() < teacher_forcing_ratio\n",
        "\n",
        "            top1 = output.argmax(1)\n",
        "\n",
        "            input = data[\"target\"][t, :] if teacher_force else top1\n",
        "\n",
        "        return outputs"
      ],
      "metadata": {
        "id": "SalAcs5Ex-aN"
      },
      "execution_count": 36,
      "outputs": []
    },
    {
      "cell_type": "markdown",
      "source": [
        "# Training the Seq2Seq Model\n",
        "\n",
        "The rest of this tutorial is very similar to the previous one. \n",
        "\n",
        "We initialise our encoder, decoder and seq2seq model (placing it on the GPU if we have one). As before, the embedding dimensions and the amount of dropout used can be different between the encoder and the decoder, but the hidden dimensions must remain the same."
      ],
      "metadata": {
        "id": "LGvMLOStGv7U"
      }
    },
    {
      "cell_type": "code",
      "source": [
        "INPUT_DIM = len(vocab_transform[SOURCE_LANGUAGE])\n",
        "OUTPUT_DIM = len(vocab_transform[TARGET_LANGUAGE])\n",
        "ENC_EMB_DIM = 256\n",
        "DEC_EMB_DIM = 256\n",
        "HID_DIM = 512\n",
        "ENC_DROPOUT = 0.5\n",
        "DEC_DROPOUT = 0.5\n",
        "\n",
        "encoder = Encoder(INPUT_DIM, ENC_EMB_DIM, HID_DIM, ENC_DROPOUT)\n",
        "decoder = Decoder(OUTPUT_DIM, DEC_EMB_DIM, HID_DIM, DEC_DROPOUT)\n",
        "\n",
        "model = Seq2Seq(encoder, decoder, DEVICE).to(DEVICE)"
      ],
      "metadata": {
        "id": "3ZMe9Fn31YWr"
      },
      "execution_count": 37,
      "outputs": []
    },
    {
      "cell_type": "markdown",
      "source": [
        "Next, we initialize our parameters. The paper states the parameters are initialized from a normal distribution with a mean of 0 and a standard deviation of 0.01, i.e. $\\mathcal{N}(0, 0.01)$. \n",
        "\n",
        "It also states we should initialize the recurrent parameters to a special initialization, however to keep things simple we'll also initialize them to $\\mathcal{N}(0, 0.01)$."
      ],
      "metadata": {
        "id": "wZXgwaGBGxda"
      }
    },
    {
      "cell_type": "code",
      "source": [
        "def init_weights(m):\n",
        "    for name, param in m.named_parameters():\n",
        "        nn.init.normal_(param.data, mean=0., std=0.01)\n",
        "\n",
        "model.apply(init_weights)"
      ],
      "metadata": {
        "colab": {
          "base_uri": "https://localhost:8080/"
        },
        "id": "ZeWkbi822saW",
        "outputId": "bad17d36-50fe-414e-8874-f2c412ed457e"
      },
      "execution_count": 38,
      "outputs": [
        {
          "output_type": "execute_result",
          "data": {
            "text/plain": [
              "Seq2Seq(\n",
              "  (encoder): Encoder(\n",
              "    (embedding): Embedding(8014, 256)\n",
              "    (rnn): GRU(256, 512)\n",
              "    (dropout): Dropout(p=0.5, inplace=False)\n",
              "  )\n",
              "  (decoder): Decoder(\n",
              "    (embedding): Embedding(6191, 256)\n",
              "    (rnn): GRU(768, 512)\n",
              "    (fc): Linear(in_features=1280, out_features=6191, bias=True)\n",
              "    (dropout): Dropout(p=0.5, inplace=False)\n",
              "  )\n",
              ")"
            ]
          },
          "metadata": {},
          "execution_count": 38
        }
      ]
    },
    {
      "cell_type": "markdown",
      "source": [
        "We print out the number of parameters.\n",
        "\n",
        "Even though we only have a single layer RNN for our encoder and decoder we actually have **more** parameters  than the last model. This is due to the increased size of the inputs to the GRU and the linear layer. However, it is not a significant amount of parameters and causes a minimal amount of increase in training time (~3 seconds per epoch extra)."
      ],
      "metadata": {
        "id": "9CQ-0IaVG3R4"
      }
    },
    {
      "cell_type": "code",
      "source": [
        "def count_parameters(model):\n",
        "    return sum(p.numel() for p in model.parameters() if p.requires_grad)\n",
        "\n",
        "print(f'The model has {count_parameters(model):,} trainable parameters')"
      ],
      "metadata": {
        "colab": {
          "base_uri": "https://localhost:8080/"
        },
        "id": "A7lXxUHd3gu1",
        "outputId": "4a438e26-48a1-4ba1-edca-8f29d5509958"
      },
      "execution_count": 39,
      "outputs": [
        {
          "output_type": "stream",
          "name": "stdout",
          "text": [
            "The model has 14,719,023 trainable parameters\n"
          ]
        }
      ]
    },
    {
      "cell_type": "markdown",
      "source": [
        "We initiaize our optimizer."
      ],
      "metadata": {
        "id": "1Uusl_0RG42n"
      }
    },
    {
      "cell_type": "code",
      "source": [
        "optimizer = optim.Adam(model.parameters())"
      ],
      "metadata": {
        "id": "EeC_sqLL3wTf"
      },
      "execution_count": 40,
      "outputs": []
    },
    {
      "cell_type": "markdown",
      "source": [
        "We also initialize the loss function, making sure to ignore the loss on `<pad>` tokens."
      ],
      "metadata": {
        "id": "p8dsEpTnG6bn"
      }
    },
    {
      "cell_type": "code",
      "source": [
        "criterion = nn.CrossEntropyLoss(ignore_index=PAD_IDX)"
      ],
      "metadata": {
        "id": "WoJkmt7K31DR"
      },
      "execution_count": 41,
      "outputs": []
    },
    {
      "cell_type": "markdown",
      "source": [
        "We then create the training loop..."
      ],
      "metadata": {
        "id": "mP5_P5l0G7wX"
      }
    },
    {
      "cell_type": "code",
      "source": [
        "def train(model, dataloader, optimizer, criterion, clip: float):\n",
        "    model.train()\n",
        "\n",
        "    epoch_loss = 0\n",
        "\n",
        "    for i, data in enumerate(dataloader):\n",
        "\n",
        "        optimizer.zero_grad()\n",
        "\n",
        "        output = model(data)\n",
        "\n",
        "        output_dim = output.size(-1)\n",
        "        # print(data[\"target\"].shape, output.shape)\n",
        "        # torch.Size([24, 64]) torch.Size([24, 64, 6191])\n",
        "        output = output[1:].view(-1, output_dim)\n",
        "        target = data[\"target\"][1:].view(-1)\n",
        "        \n",
        "        loss = criterion(output, target)\n",
        "\n",
        "        loss.backward()\n",
        "\n",
        "        torch.nn.utils.clip_grad_norm_(model.parameters(), clip)\n",
        "\n",
        "        optimizer.step()\n",
        "\n",
        "        epoch_loss += loss.item()\n",
        "\n",
        "    return epoch_loss / len(list(dataloader))"
      ],
      "metadata": {
        "id": "s5ImOdpF36cY"
      },
      "execution_count": 42,
      "outputs": []
    },
    {
      "cell_type": "markdown",
      "source": [
        "...and the evaluation loop, remembering to set the model to `eval` mode and turn off teaching forcing."
      ],
      "metadata": {
        "id": "CeDVqnyiG9e-"
      }
    },
    {
      "cell_type": "code",
      "source": [
        "def evaluate(model, dataloader, optimizer, criterion):\n",
        "    model.eval()\n",
        "\n",
        "    epoch_loss = 0\n",
        "\n",
        "    with torch.no_grad():\n",
        "\n",
        "        for i, data in enumerate(dataloader):\n",
        "\n",
        "            optimizer.zero_grad()\n",
        "\n",
        "            output = model(data, 0)\n",
        "\n",
        "            output_dim = output.size(-1)\n",
        "\n",
        "            output = output[1:].view(-1, output_dim)\n",
        "            target = data[\"target\"][1:].view(-1)\n",
        "            \n",
        "            loss = criterion(output, target)\n",
        "\n",
        "            epoch_loss += loss.item()\n",
        "\n",
        "    return epoch_loss / len(list(dataloader))"
      ],
      "metadata": {
        "id": "sAEag_Hj4oIg"
      },
      "execution_count": 46,
      "outputs": []
    },
    {
      "cell_type": "markdown",
      "source": [
        "We'll also define the function that calculates how long an epoch takes."
      ],
      "metadata": {
        "id": "Bu9ruOg9G_GF"
      }
    },
    {
      "cell_type": "code",
      "source": [
        "def epoch_time(start_time, end_time):\n",
        "    elapsed_time = end_time - start_time\n",
        "    elapsed_mins = int(elapsed_time / 60)\n",
        "    elapsed_secs = int(elapsed_time - (elapsed_mins * 60))\n",
        "    return elapsed_mins, elapsed_secs"
      ],
      "metadata": {
        "id": "nzbAQyoQ43oO"
      },
      "execution_count": 47,
      "outputs": []
    },
    {
      "cell_type": "markdown",
      "source": [
        "Then, we train our model, saving the parameters that give us the best validation loss."
      ],
      "metadata": {
        "id": "KXnv7neXHAJ9"
      }
    },
    {
      "cell_type": "code",
      "source": [
        "N_EPOCHS = 10\n",
        "CLIP = 1\n",
        "\n",
        "best_valid_loss = float(\"inf\")\n",
        "\n",
        "for epoch in range(N_EPOCHS):\n",
        "\n",
        "    start_time = time.time()\n",
        "    train_loss = train(model, train_dataloader, optimizer, criterion, CLIP)\n",
        "    valid_loss = evaluate(model, valid_dataloader, optimizer, criterion)\n",
        "    \n",
        "    end_time = time.time()\n",
        "\n",
        "    epoch_mins, epoch_secs = epoch_time(start_time, end_time)\n",
        "\n",
        "    if valid_loss < best_valid_loss:\n",
        "        best_valid_loss = valid_loss\n",
        "        torch.save(model.state_dict(), 'model.pth')\n",
        "    \n",
        "    print(f'Epoch: {epoch+1:02} | Time: {epoch_mins}m {epoch_secs}s')\n",
        "    print(f'\\tTrain Loss: {train_loss:.3f} | Train PPL: {math.exp(train_loss):7.3f}')\n",
        "    print(f'\\t Val. Loss: {valid_loss:.3f} |  Val. PPL: {math.exp(valid_loss):7.3f}')"
      ],
      "metadata": {
        "colab": {
          "base_uri": "https://localhost:8080/"
        },
        "id": "LpHqYmM045Bl",
        "outputId": "0889a406-d3ba-46ce-945b-5ca6d552d097"
      },
      "execution_count": 48,
      "outputs": [
        {
          "output_type": "stream",
          "name": "stdout",
          "text": [
            "Epoch: 01 | Time: 0m 52s\n",
            "\tTrain Loss: 4.134 | Train PPL:  62.440\n",
            "\t Val. Loss: 4.634 |  Val. PPL: 102.923\n",
            "Epoch: 02 | Time: 0m 51s\n",
            "\tTrain Loss: 3.642 | Train PPL:  38.175\n",
            "\t Val. Loss: 4.210 |  Val. PPL:  67.377\n",
            "Epoch: 03 | Time: 0m 53s\n",
            "\tTrain Loss: 3.175 | Train PPL:  23.928\n",
            "\t Val. Loss: 3.961 |  Val. PPL:  52.489\n",
            "Epoch: 04 | Time: 0m 52s\n",
            "\tTrain Loss: 2.789 | Train PPL:  16.260\n",
            "\t Val. Loss: 3.892 |  Val. PPL:  49.004\n",
            "Epoch: 05 | Time: 0m 52s\n",
            "\tTrain Loss: 2.477 | Train PPL:  11.911\n",
            "\t Val. Loss: 3.823 |  Val. PPL:  45.740\n",
            "Epoch: 06 | Time: 0m 51s\n",
            "\tTrain Loss: 2.190 | Train PPL:   8.937\n",
            "\t Val. Loss: 3.852 |  Val. PPL:  47.078\n",
            "Epoch: 07 | Time: 0m 51s\n",
            "\tTrain Loss: 1.960 | Train PPL:   7.101\n",
            "\t Val. Loss: 3.806 |  Val. PPL:  44.953\n",
            "Epoch: 08 | Time: 0m 51s\n",
            "\tTrain Loss: 1.765 | Train PPL:   5.842\n",
            "\t Val. Loss: 3.886 |  Val. PPL:  48.721\n",
            "Epoch: 09 | Time: 0m 52s\n",
            "\tTrain Loss: 1.605 | Train PPL:   4.976\n",
            "\t Val. Loss: 3.953 |  Val. PPL:  52.089\n",
            "Epoch: 10 | Time: 0m 52s\n",
            "\tTrain Loss: 1.461 | Train PPL:   4.311\n",
            "\t Val. Loss: 4.063 |  Val. PPL:  58.138\n"
          ]
        }
      ]
    },
    {
      "cell_type": "markdown",
      "source": [
        "Finally, we test the model on the test set using these \"best\" parameters."
      ],
      "metadata": {
        "id": "fQzKu3RGHCYU"
      }
    },
    {
      "cell_type": "code",
      "source": [
        "model.load_state_dict(torch.load('model.pth'))"
      ],
      "metadata": {
        "colab": {
          "base_uri": "https://localhost:8080/"
        },
        "id": "0b0Le9q896xi",
        "outputId": "791972ac-3c2b-4182-cede-d1b21e708412"
      },
      "execution_count": 49,
      "outputs": [
        {
          "output_type": "execute_result",
          "data": {
            "text/plain": [
              "<All keys matched successfully>"
            ]
          },
          "metadata": {},
          "execution_count": 49
        }
      ]
    },
    {
      "cell_type": "code",
      "source": [
        "train_iter = Multi30k(root=\"/content\", split='test', language_pair=(SOURCE_LANGUAGE, TARGET_LANGUAGE))\n",
        "test_dataloader = DataLoader(train_iter, batch_size=BATCH_SIZE, collate_fn=collate_fn)\n",
        "\n",
        "test_loss = evaluate(model, test_dataloader, optimizer, criterion)\n",
        "\n",
        "print(f'| Test Loss: {test_loss:.3f} | Test PPL: {math.exp(test_loss):7.3f} |')"
      ],
      "metadata": {
        "colab": {
          "base_uri": "https://localhost:8080/"
        },
        "id": "CeAmTQklHMsk",
        "outputId": "3bd01d03-07cf-484f-e22f-f82711b84bfb"
      },
      "execution_count": 60,
      "outputs": [
        {
          "output_type": "stream",
          "name": "stdout",
          "text": [
            "| Test Loss: 3.778 | Test PPL:  43.742 |\n"
          ]
        }
      ]
    },
    {
      "cell_type": "code",
      "source": [
        "model.eval()\n",
        "\n",
        "epoch_loss = 0\n",
        "with torch.no_grad():\n",
        "    for i, batch in enumerate(valid_dataloader):\n",
        "        for k, v in batch.items():\n",
        "            batch[k] = v.to(DEVICE)\n",
        "\n",
        "        output = model(batch, 0)\n",
        "        break"
      ],
      "metadata": {
        "id": "p2khkLTg5a9w"
      },
      "execution_count": 50,
      "outputs": []
    },
    {
      "cell_type": "code",
      "source": [
        "idx2word = vocab_transform[TARGET_LANGUAGE].get_itos()"
      ],
      "metadata": {
        "id": "I8s9vGHZAE90"
      },
      "execution_count": 51,
      "outputs": []
    },
    {
      "cell_type": "code",
      "source": [
        "def reverse(index):\n",
        "    string = []\n",
        "    for idx in index:\n",
        "        if idx > 3:\n",
        "            string.append(idx2word[idx])\n",
        "    return \" \".join(string)"
      ],
      "metadata": {
        "id": "ksvxjTSKAFmu"
      },
      "execution_count": 52,
      "outputs": []
    },
    {
      "cell_type": "code",
      "source": [
        "ground_truths = []\n",
        "for i in range(64):\n",
        "    gt = batch[\"target\"][:, i]\n",
        "    ground_truths.append(reverse(gt.detach().cpu().numpy()))"
      ],
      "metadata": {
        "id": "mCi7Xl3oAFoj"
      },
      "execution_count": 53,
      "outputs": []
    },
    {
      "cell_type": "code",
      "source": [
        "predictions = []\n",
        "for i in range(64):\n",
        "    test_output = output[:, i].argmax(-1)\n",
        "    predictions.append(reverse(test_output.detach().cpu().numpy()))\n"
      ],
      "metadata": {
        "id": "-P8BNXHwAJKU"
      },
      "execution_count": 54,
      "outputs": []
    },
    {
      "cell_type": "code",
      "source": [
        "for ground_truth, prediction in zip(ground_truths, predictions):\n",
        "    print(ground_truth)\n",
        "    print(prediction)\n",
        "    print()"
      ],
      "metadata": {
        "colab": {
          "base_uri": "https://localhost:8080/"
        },
        "id": "pJTOEEIGAJME",
        "outputId": "a77b1dca-a23d-49ed-f659-b41613624ae7"
      },
      "execution_count": 55,
      "outputs": [
        {
          "output_type": "stream",
          "name": "stdout",
          "text": [
            "A group of men are loading cotton onto a truck\n",
            "A group of men are a a roller - truck .\n",
            "\n",
            "A man sleeping in a green room on a couch .\n",
            "A man sleeping sleeping in a couch in a couch .\n",
            "\n",
            "A boy wearing headphones sits on a woman 's shoulders .\n",
            "A boy sitting on his lap sitting on a lap .\n",
            "\n",
            "Two men setting up a blue ice fishing hut on an iced over lake\n",
            "Two men are on a green boat on a rocky shore .\n",
            "\n",
            "A balding man wearing a red life jacket is sitting in a small boat .\n",
            "A bald man with a a red swim trunks sitting in a pool . .\n",
            "\n",
            "A lady in a red coat , holding a hand bag likely of asian descent , jumping off the ground for a .\n",
            "A woman in a red coat coat is taking a a into a air to a a a into the distance . . .\n",
            "\n",
            "A brown dog is running after the black dog .\n",
            "A brown dog runs running the brown dog . .\n",
            "\n",
            "A young boy wearing a jersey swings a baseball bat at an incoming pitch .\n",
            "A little boy with a baseball bat in a bat bat to bat a bat . .\n",
            "\n",
            "A man in a cluttered office is using the telephone\n",
            "A man is talking on a in a office setting .\n",
            "\n",
            "A smiling woman in a peach tank top stands holding a mountain bike\n",
            "A smiling woman wearing a wearing a a bicycle .\n",
            "\n",
            "A young child is standing alone on some jagged rocks .\n",
            "A little child is alone on a sand dune . .\n",
            "\n",
            "A person on a snowmobile in mid jump .\n",
            "A person on a ATV in a jump .\n",
            "\n",
            "Three young children stand around a blue and white barrel .\n",
            "Three young children are around a black .\n",
            "\n",
            "A woman is sitting by her dried flower display at an outside market .\n",
            "A woman sitting at her market in an open market .\n",
            "\n",
            "A female playing a song on her violin .\n",
            "A woman is playing a violin on the violin .\n",
            "\n",
            "Three people on two dirt - bikes and one four - wheeler are riding through brown grass .\n",
            "Three people are kayaking and two wearing green and green .\n",
            "\n",
            "A half naked man is sleeping on his chair outdoors .\n",
            "A man is sleeping on a chair .\n",
            "\n",
            "A group of people standing in front of a hut in a parking lot .\n",
            "A group of people standing in a parking lot of a British . .\n",
            "\n",
            "A young woman is making rugs in the rain forest\n",
            "A young woman is in the .\n",
            "\n",
            "Three girls make faces as one takes a drink while they stand in a busy street .\n",
            "Three girls are a foreign , one of a street , and a street .\n",
            "\n",
            "A single man in a black t - shirt standing above the crowd at a busy bar .\n",
            "A bearded man in a black shirt , a black in a black .\n",
            "\n",
            "Woman and man walking across wooden rope bridge with a caution sign beside it .\n",
            "A man and walking across the rocky area with you . .\n",
            "\n",
            "A man in a skirt is jumping while juggling knives .\n",
            "A man with a knee pads and and sandals .\n",
            "\n",
            "An Asian girl in a green hat and apron is serving drinks on a tray .\n",
            "A blond girl in a hat and hat is is a a a .\n",
            "\n",
            "Construction workers standing on top of a piece of machinery .\n",
            "Construction workers are standing on a concrete .\n",
            "\n",
            "Two dogs play with an orange toy in tall grass .\n",
            "Two dogs play playing in the grass with tall tall green grass .\n",
            "\n",
            "A cute baby is smiling at another child .\n",
            "A baby is hugging another another baby .\n",
            "\n",
            "Three men are walking on a road in the mountains .\n",
            "Three men are walking in a in the woods .\n",
            "\n",
            "A person is parasailing over a large body of water .\n",
            "A person is a large body of water . body of water .\n",
            "\n",
            "A tractor is moving dirt to help build up a wall .\n",
            "Large big worker moving through the concrete concrete concrete .\n",
            "\n",
            "A young girl running by herself in a park .\n",
            "A young girl is alone in a park .\n",
            "\n",
            "A person crosses the street and the of paint .\n",
            "A person is the the street while the the street .\n",
            "\n",
            "Child playing on a playground , hanging from bars .\n",
            "A child plays on a playground and looking at the playground .\n",
            "\n",
            "A person wearing a red long - sleeved shirt is lying down on a wall in front of a lamp post in a very unusual manner .\n",
            "A person in a red , red , is suspended in a a on a a of a stone wall . .\n",
            "\n",
            "A group of people around a man in a suit and a little boy .\n",
            "A group of people are a man in a boy in a a . . . . .\n",
            "\n",
            "A woman sits at a dark bar .\n",
            "A woman is sitting on a bar .\n",
            "\n",
            "People are walking down a sidewalk where there is an outdoors market .\n",
            "People walking on a sidewalk past an open - shop .\n",
            "\n",
            "A man with a blue backpack reads the paper while waiting to board the subway .\n",
            "A man with a newspaper bag is reading the newspaper while the the subway .\n",
            "\n",
            "A large brown dog is sticking his face in the sprinkler .\n",
            "A large brown dog has his paw in his hand .\n",
            "\n",
            "A blond boy in a blue t - shirt stands smiling before a craft of green fabric .\n",
            "A young boy in a green shirt smiles at a green green green green object .\n",
            "\n",
            "A young white male is sweeping a porch with a large broom .\n",
            "A young man is a a large with a large broom .\n",
            "\n",
            "A person about in the middle of throwing a green bowling ball down a bowling lane .\n",
            "A child is throwing a ball from a green of a green ball .\n",
            "\n",
            "A band plays a rock show to a bar audience .\n",
            "A band performing a a a a a a show . .\n",
            "\n",
            "An elderly man is walking a brown dog using a red leash .\n",
            "An older man is walking a dog with a dog dog . leash .\n",
            "\n",
            "A man drives an old - fashioned red race car .\n",
            "A man driving a red and red car .\n",
            "\n",
            "Young adults wearing red , yellow , and black shirts in a straight line perform a sketch .\n",
            "Young adults in a in a blue and and a black and black , are on a a train .\n",
            "\n",
            "A young boy , throwing a stone into calm water .\n",
            "A young boy is a rock in in the water .\n",
            "\n",
            "Two women with short hair are facing each other and the blond one is talking .\n",
            "Two dark - haired women are hugging while women hugging the women . .\n",
            "\n",
            "An elaborate costumed figure is in front of a brightly decorated structure .\n",
            "A beautiful in in in front of a British .\n",
            "\n",
            "A dog walking through a small stream with a rag in his mouth .\n",
            "Dog walking through a pool with a toy in its mouth .\n",
            "\n",
            "Three small dogs at something .\n",
            "Three brown dogs are something something .\n",
            "\n",
            "Two man are paddling a kayak along a river with green trees on either side .\n",
            "Two men are kayaking in a river with a tall trees in the river in a tall trees . .\n",
            "\n",
            "Two girls walking down the street .\n",
            "Two girls are walking down a street .\n",
            "\n",
            "A group of kids sitting in the back of a van together looking at a book .\n",
            "A group of kids sit in a wall reading a wall .\n",
            "\n",
            "Beach goers look at a heart left in the sky by a sky .\n",
            "at a from a by a bull . the sky . .\n",
            "\n",
            "Sitting casually in a public place , a girl reads holding the book open with her hand on which is a butterfly ring .\n",
            "A girl sits in a a room with a book and her hands in a a a book , a a a book . her hands .\n",
            "\n",
            "A man in a restaurant having lunch .\n",
            "A man is eating a in a restaurant .\n",
            "\n",
            "A man in a suit and glass has an object in his hands .\n",
            "A man in a suit and glasses holding a object . hands .\n",
            "\n",
            "A man in a black wetsuit is surfing on a wave .\n",
            "A man in a wetsuit is a wave .\n",
            "\n",
            "A woman with a pink purse is sitting on a bench .\n",
            "A woman with a pink is sitting on a bench .\n",
            "\n",
            "Three women smiling and sitting down .\n",
            "Three women are smiling and smiling .\n",
            "\n",
            "A red plane flying over a boat as it trails pink smoke .\n",
            "A red boat boat over a boat with a red and . .\n",
            "\n",
            "A man in a harness climbing a rock wall\n",
            "A man in a rock climbing a rock face .\n",
            "\n",
            "Two construction workers in the loading of a dump truck at an urban construction site .\n",
            "Two construction workers are using a site of a construction site .\n",
            "\n"
          ]
        }
      ]
    },
    {
      "cell_type": "code",
      "source": [],
      "metadata": {
        "id": "_kuRRwRFHUim"
      },
      "execution_count": null,
      "outputs": []
    }
  ]
}